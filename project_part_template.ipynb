{
 "cells": [
  {
   "cell_type": "markdown",
   "metadata": {
    "id": "zwPruqU0MJFR"
   },
   "source": [
    "# Notebook Title"
   ]
  },
  {
   "cell_type": "markdown",
   "metadata": {
    "id": "TkQuQR7KMN8V"
   },
   "source": [
    "\n",
    "**Authors**: Ashkan Khademian, Ujunwa Edum\\\n",
    "**Project Part**: Part I\\\n",
    "**Course**: DATA.ML.360-2024-2025-1 Recommender Systems"
   ]
  },
  {
   "cell_type": "markdown",
   "metadata": {
    "id": "Fn8JDrAROlvp"
   },
   "source": [
    "# Foundations"
   ]
  },
  {
   "cell_type": "markdown",
   "metadata": {
    "id": "9i9ZaydaQjcj"
   },
   "source": [
    "## Introduction\n",
    "Lorem ipsum"
   ]
  },
  {
   "cell_type": "markdown",
   "metadata": {
    "id": "wn_6xpQpPJA3"
   },
   "source": [
    "## Install Requirements"
   ]
  },
  {
   "cell_type": "markdown",
   "metadata": {
    "id": "fgzAenmNQIen"
   },
   "source": [
    "Use the comment template for installing your packages that are not already present in the google colab environment."
   ]
  },
  {
   "cell_type": "code",
   "execution_count": 1,
   "metadata": {
    "ExecuteTime": {
     "end_time": "2024-11-09T17:00:26.368434Z",
     "start_time": "2024-11-09T17:00:26.361961Z"
    },
    "id": "sm4JvJzXPIgH"
   },
   "outputs": [],
   "source": [
    "# !pip install <package-name>"
   ]
  },
  {
   "cell_type": "markdown",
   "metadata": {
    "id": "ATPOXwHmQQza"
   },
   "source": [
    "## Import Libararies"
   ]
  },
  {
   "cell_type": "markdown",
   "metadata": {
    "id": "QTxSKRH-WJYj"
   },
   "source": [
    "### Main Libraries"
   ]
  },
  {
   "cell_type": "code",
   "execution_count": 2,
   "metadata": {
    "ExecuteTime": {
     "end_time": "2024-11-09T17:00:26.550504Z",
     "start_time": "2024-11-09T17:00:26.410053Z"
    },
    "id": "4O0DPlYWQZgY"
   },
   "outputs": [],
   "source": [
    "import typing\n",
    "from time import sleep\n",
    "\n",
    "from tqdm import tqdm\n",
    "import numpy as np\n",
    "import pandas as pd\n",
    "import matplotlib.pyplot as plt\n",
    "import seaborn as sns\n",
    "from itertools import combinations"
   ]
  },
  {
   "cell_type": "markdown",
   "metadata": {
    "id": "zHLbWl9EWL--"
   },
   "source": [
    "### Typing"
   ]
  },
  {
   "cell_type": "code",
   "execution_count": 3,
   "metadata": {
    "ExecuteTime": {
     "end_time": "2024-11-09T17:00:26.746784Z",
     "start_time": "2024-11-09T17:00:26.742991Z"
    },
    "id": "XIDzKAbnWQPr"
   },
   "outputs": [],
   "source": [
    "from typing import *\n",
    "from pandas.core.frame import DataFrame, Series"
   ]
  },
  {
   "cell_type": "markdown",
   "metadata": {
    "id": "MwUERVVoSvSt"
   },
   "source": [
    "## Define Constants"
   ]
  },
  {
   "cell_type": "code",
   "execution_count": 4,
   "metadata": {
    "ExecuteTime": {
     "end_time": "2024-11-09T17:00:26.898184Z",
     "start_time": "2024-11-09T17:00:26.787068Z"
    },
    "id": "WD4SLoO5SzW9"
   },
   "outputs": [],
   "source": [
    "RATING_DATASET = \"data/ml-latest-small/ratings.csv\""
   ]
  }
 ],
 "metadata": {
  "colab": {
   "collapsed_sections": [
    "9i9ZaydaQjcj",
    "wn_6xpQpPJA3"
   ],
   "provenance": []
  },
  "kernelspec": {
   "display_name": "Python 3 (ipykernel)",
   "language": "python",
   "name": "python3"
  },
  "language_info": {
   "codemirror_mode": {
    "name": "ipython",
    "version": 3
   },
   "file_extension": ".py",
   "mimetype": "text/x-python",
   "name": "python",
   "nbconvert_exporter": "python",
   "pygments_lexer": "ipython3",
   "version": "3.9.20"
  }
 },
 "nbformat": 4,
 "nbformat_minor": 4
}
