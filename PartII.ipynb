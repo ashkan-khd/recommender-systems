{
 "cells": [
  {
   "cell_type": "markdown",
   "metadata": {
    "id": "zwPruqU0MJFR"
   },
   "source": "# Sequential Group Recommendations in MovieLens 100K"
  },
  {
   "cell_type": "markdown",
   "metadata": {
    "id": "TkQuQR7KMN8V"
   },
   "source": [
    "\n",
    "**Authors**: Ashkan Khademian, Ujunwa Edum\\\n",
    "**Project Part**: Part I\\\n",
    "**Course**: DATA.ML.360-2024-2025-1 Recommender Systems"
   ]
  },
  {
   "cell_type": "markdown",
   "metadata": {
    "id": "Fn8JDrAROlvp"
   },
   "source": [
    "# Foundations"
   ]
  },
  {
   "cell_type": "markdown",
   "metadata": {
    "id": "9i9ZaydaQjcj"
   },
   "source": [
    "## Introduction\n",
    "Lorem ipsum"
   ]
  },
  {
   "cell_type": "markdown",
   "metadata": {
    "id": "wn_6xpQpPJA3"
   },
   "source": [
    "## Install Requirements"
   ]
  },
  {
   "cell_type": "markdown",
   "metadata": {
    "id": "fgzAenmNQIen"
   },
   "source": [
    "Use the comment template for installing your packages that are not already present in the google colab environment."
   ]
  },
  {
   "cell_type": "code",
   "metadata": {
    "id": "sm4JvJzXPIgH",
    "ExecuteTime": {
     "end_time": "2024-11-16T01:06:29.249977Z",
     "start_time": "2024-11-16T01:06:29.246534Z"
    }
   },
   "source": [
    "# !pip install <package-name>"
   ],
   "outputs": [],
   "execution_count": 20
  },
  {
   "cell_type": "markdown",
   "metadata": {
    "id": "ATPOXwHmQQza"
   },
   "source": [
    "## Import Libararies"
   ]
  },
  {
   "cell_type": "markdown",
   "metadata": {
    "id": "QTxSKRH-WJYj"
   },
   "source": [
    "### Main Libraries"
   ]
  },
  {
   "cell_type": "code",
   "metadata": {
    "id": "4O0DPlYWQZgY",
    "ExecuteTime": {
     "end_time": "2024-11-16T01:06:29.360503Z",
     "start_time": "2024-11-16T01:06:29.305447Z"
    }
   },
   "source": [
    "import random\n",
    "import typing\n",
    "from time import sleep\n",
    "from collections import defaultdict\n",
    "from functools import lru_cache\n",
    "\n",
    "from tqdm import tqdm\n",
    "import numpy as np\n",
    "import pandas as pd\n",
    "import matplotlib.pyplot as plt\n",
    "import seaborn as sns\n",
    "from itertools import combinations"
   ],
   "outputs": [],
   "execution_count": 21
  },
  {
   "metadata": {},
   "cell_type": "markdown",
   "source": "## Part II Utils"
  },
  {
   "metadata": {
    "ExecuteTime": {
     "end_time": "2024-11-16T01:06:29.532884Z",
     "start_time": "2024-11-16T01:06:29.381344Z"
    }
   },
   "cell_type": "code",
   "source": "from part2_utils.predict_user_rating import predict_user_rating",
   "outputs": [],
   "execution_count": 22
  },
  {
   "cell_type": "markdown",
   "metadata": {
    "id": "zHLbWl9EWL--"
   },
   "source": [
    "### Typing"
   ]
  },
  {
   "cell_type": "code",
   "metadata": {
    "id": "XIDzKAbnWQPr",
    "ExecuteTime": {
     "end_time": "2024-11-16T01:06:29.680884Z",
     "start_time": "2024-11-16T01:06:29.555532Z"
    }
   },
   "source": [
    "from typing import *\n",
    "from pandas.core.frame import DataFrame, Series"
   ],
   "outputs": [],
   "execution_count": 23
  },
  {
   "cell_type": "markdown",
   "metadata": {
    "id": "MwUERVVoSvSt"
   },
   "source": [
    "## Define Constants"
   ]
  },
  {
   "cell_type": "code",
   "metadata": {
    "id": "WD4SLoO5SzW9",
    "ExecuteTime": {
     "end_time": "2024-11-16T01:06:29.828479Z",
     "start_time": "2024-11-16T01:06:29.721958Z"
    }
   },
   "source": [
    "RATING_DATASET = \"data/ml-latest-small/ratings.csv\"\n",
    "MOVIES_DETAILS_DATASET = \"data/ml-latest-small/movies.csv\""
   ],
   "outputs": [],
   "execution_count": 24
  },
  {
   "metadata": {},
   "cell_type": "markdown",
   "source": "# Sequential Group Recommendation"
  },
  {
   "metadata": {},
   "cell_type": "markdown",
   "source": "## Load Data"
  },
  {
   "metadata": {
    "ExecuteTime": {
     "end_time": "2024-11-16T01:06:30.014147Z",
     "start_time": "2024-11-16T01:06:29.833058Z"
    }
   },
   "cell_type": "code",
   "source": "raw_df = pd.read_csv(RATING_DATASET)",
   "outputs": [],
   "execution_count": 25
  },
  {
   "metadata": {
    "ExecuteTime": {
     "end_time": "2024-11-16T01:06:30.138913Z",
     "start_time": "2024-11-16T01:06:30.046763Z"
    }
   },
   "cell_type": "code",
   "source": "movies_details_df = pd.read_csv(MOVIES_DETAILS_DATASET)",
   "outputs": [],
   "execution_count": 26
  },
  {
   "metadata": {},
   "cell_type": "markdown",
   "source": [
    "### Transform CSV DataFrame to User-Movies Matrix\n",
    "The `transform_csv_dataframe_to_user_movies_matrix` function transforms the DataFrame resulted from the dataset CSV into a user-movies matrix where the rows represent users, the columns represent movies, and the values represent the ratings given by users to movies."
   ]
  },
  {
   "metadata": {
    "id": "FIGTM-LIHNsh",
    "ExecuteTime": {
     "end_time": "2024-11-16T01:06:30.272524Z",
     "start_time": "2024-11-16T01:06:30.161342Z"
    }
   },
   "cell_type": "code",
   "source": [
    "def transform_csv_dataframe_to_user_movies_matrix(csv_df: DataFrame) -> DataFrame:\n",
    "  user_movie_matrix = csv_df.pivot(index='userId', columns='movieId', values='rating')\n",
    "  user_movie_matrix.reset_index(inplace=True)\n",
    "  user_movie_matrix.columns.name = None\n",
    "  return user_movie_matrix"
   ],
   "outputs": [],
   "execution_count": 27
  },
  {
   "metadata": {
    "ExecuteTime": {
     "end_time": "2024-11-16T01:06:30.472621Z",
     "start_time": "2024-11-16T01:06:30.295161Z"
    }
   },
   "cell_type": "code",
   "source": "user_movie_matrix = transform_csv_dataframe_to_user_movies_matrix(raw_df)",
   "outputs": [],
   "execution_count": 28
  },
  {
   "metadata": {},
   "cell_type": "markdown",
   "source": [
    "### Get Movie Genres\n",
    "The `get_movie_genres` function retrieves the genres of movies based on the movie IDs. It filters the DataFrame to include only rows with the specified movie IDs and creates a dictionary mapping movie IDs to their genres (as sets)."
   ]
  },
  {
   "metadata": {
    "ExecuteTime": {
     "end_time": "2024-11-16T01:06:30.593214Z",
     "start_time": "2024-11-16T01:06:30.500308Z"
    }
   },
   "cell_type": "code",
   "source": [
    "def get_movie_genres(movie_ids) -> Dict[int, Set[str]]:\n",
    "    df = movies_details_df.copy()\n",
    "    # Filter the DataFrame to include only rows with the specified movie IDs\n",
    "    filtered_df = df[df['movieId'].isin(movie_ids)]\n",
    "\n",
    "    # Create a dictionary mapping movie IDs to their genres (as sets)\n",
    "    movie_genres = {\n",
    "        row['movieId']: set(row['genres'].split('|'))\n",
    "        for _, row in filtered_df.iterrows()\n",
    "    }\n",
    "\n",
    "    return movie_genres"
   ],
   "outputs": [],
   "execution_count": 29
  },
  {
   "metadata": {},
   "cell_type": "markdown",
   "source": "## Sequential Group Recommendation Implementation"
  },
  {
   "metadata": {},
   "cell_type": "markdown",
   "source": [
    "### Preference Score\n",
    "The `preference_score` function calculates the preference score of a user for a movie. It uses the `predict_user_rating` function to predict the rating of the user for the movie."
   ]
  },
  {
   "metadata": {
    "ExecuteTime": {
     "end_time": "2024-11-16T01:06:30.751778Z",
     "start_time": "2024-11-16T01:06:30.623959Z"
    }
   },
   "cell_type": "code",
   "source": [
    "@lru_cache(maxsize=None)\n",
    "def preference_score(user_id, movie_id):\n",
    "    return predict_user_rating(user_movie_matrix, user_id, movie_id)"
   ],
   "outputs": [],
   "execution_count": 30
  },
  {
   "metadata": {},
   "cell_type": "markdown",
   "source": [
    "### Calculate User Satisfaction\n",
    "The `calculate_user_satisfaction` function calculates the user satisfaction based on the group recommendations. It divides the group satisfaction by the user's ideal satisfaction."
   ]
  },
  {
   "metadata": {
    "ExecuteTime": {
     "end_time": "2024-11-16T01:06:30.899712Z",
     "start_time": "2024-11-16T01:06:30.777969Z"
    }
   },
   "cell_type": "code",
   "source": [
    "def calculate_user_satisfaction(user_id, group_rec, user_ratings, user_satisfactions):\n",
    "    \"\"\"\n",
    "    Calculate user satisfaction based on the group recommendations.\n",
    "    \"\"\"\n",
    "    user_ideal_satisfaction = user_satisfactions[user_id]\n",
    "    group_satisfaction = sum([preference_score(user_id, movie) for movie in group_rec])\n",
    "    return group_satisfaction / user_ideal_satisfaction if user_ideal_satisfaction > 0 else 0"
   ],
   "outputs": [],
   "execution_count": 31
  },
  {
   "metadata": {},
   "cell_type": "markdown",
   "source": [
    "### Calculate Group Satisfaction\n",
    "The `calculate_group_satisfaction` function calculates the average satisfaction across all users in the group. It uses the `calculate_user_satisfaction` function to calculate the satisfaction of each user in the group."
   ]
  },
  {
   "metadata": {
    "ExecuteTime": {
     "end_time": "2024-11-16T01:06:31.058352Z",
     "start_time": "2024-11-16T01:06:30.932463Z"
    }
   },
   "cell_type": "code",
   "source": [
    "def calculate_group_satisfaction(group, group_rec, user_ratings, user_satisfactions):\n",
    "    \"\"\"\n",
    "    Calculate average satisfaction across all users in the group.\n",
    "    \"\"\"\n",
    "    individual_satisfactions = [calculate_user_satisfaction(user, group_rec, user_ratings, user_satisfactions) for user in group]\n",
    "    return np.mean(individual_satisfactions)\n"
   ],
   "outputs": [],
   "execution_count": 32
  },
  {
   "metadata": {},
   "cell_type": "markdown",
   "source": [
    "### Calculate Group Disagreement\n",
    "The `calculate_group_disagreement` function calculates the disagreement within the group as the difference between the maximum and minimum satisfaction."
   ]
  },
  {
   "metadata": {
    "ExecuteTime": {
     "end_time": "2024-11-16T01:06:31.206008Z",
     "start_time": "2024-11-16T01:06:31.082292Z"
    }
   },
   "cell_type": "code",
   "source": [
    "def calculate_group_disagreement(group, group_rec, user_ratings, user_satisfactions):\n",
    "    \"\"\"\n",
    "    Calculate disagreement within the group as the difference between max and min satisfaction.\n",
    "    \"\"\"\n",
    "    individual_satisfactions = [calculate_user_satisfaction(user, group_rec, user_ratings, user_satisfactions) for user in group]\n",
    "    return max(individual_satisfactions) - min(individual_satisfactions)"
   ],
   "outputs": [],
   "execution_count": 33
  },
  {
   "metadata": {},
   "cell_type": "markdown",
   "source": [
    "### Calculate Genre Diversity\n",
    "The `calculate_genre_diversity` function calculates the genre diversity score for a set of movies. The higher the score, the more diverse the genre representation. It calculates the entropy-based diversity score and it further normalizes the score to be between 0 and 1."
   ]
  },
  {
   "metadata": {
    "ExecuteTime": {
     "end_time": "2024-11-16T01:06:31.401292Z",
     "start_time": "2024-11-16T01:06:31.229158Z"
    }
   },
   "cell_type": "code",
   "source": [
    "def calculate_genre_diversity(group, movies, movie_genres, user_ratings):\n",
    "    \"\"\"\n",
    "    Calculate genre diversity score for a set of movies.\n",
    "    Higher score means more diverse genre representation.\n",
    "\n",
    "    Args:\n",
    "        group: List of user IDs\n",
    "        movies: List of movie IDs to evaluate\n",
    "        movie_genres: Dict mapping movie IDs to their genres\n",
    "        user_ratings: Dict of user ratings\n",
    "\n",
    "    Returns:\n",
    "        Float between 0 and 1 indicating genre diversity\n",
    "    \"\"\"\n",
    "    if not movies:\n",
    "        return 0\n",
    "\n",
    "    # Collect all genres in the recommended movies\n",
    "    movie_genre_set = set()\n",
    "    for movie in movies:\n",
    "        if movie in movie_genres:\n",
    "            movie_genre_set.update(movie_genres[movie])\n",
    "\n",
    "    # Count genre occurrences\n",
    "    genre_counts = defaultdict(int)\n",
    "    for movie in movies:\n",
    "        if movie in movie_genres:\n",
    "            for genre in movie_genres[movie]:\n",
    "                genre_counts[genre] += 1\n",
    "\n",
    "    if not genre_counts:\n",
    "        return 0\n",
    "\n",
    "    # Calculate entropy-based diversity score\n",
    "    total_genres = sum(genre_counts.values())\n",
    "    proportions = [count / total_genres for count in genre_counts.values()]\n",
    "    entropy = -sum(p * np.log(p) if p > 0 else 0 for p in proportions)\n",
    "    max_entropy = np.log(len(movie_genre_set)) if movie_genre_set else 1\n",
    "\n",
    "    # Normalize to [0,1]\n",
    "    diversity_score = entropy / max_entropy if max_entropy > 0 else 0\n",
    "    return diversity_score\n"
   ],
   "outputs": [],
   "execution_count": 34
  },
  {
   "metadata": {},
   "cell_type": "markdown",
   "source": [
    "### Calculate Average and Least Score\n",
    "The `avgScore` function calculates the average preference score for the movie among the group members, while the `leastScore` function calculates the minimum preference score for the movie among the group members."
   ]
  },
  {
   "metadata": {
    "ExecuteTime": {
     "end_time": "2024-11-16T01:06:31.753926Z",
     "start_time": "2024-11-16T01:06:31.428694Z"
    }
   },
   "cell_type": "code",
   "source": [
    "def avgScore(group, movie, user_ratings):\n",
    "    \"\"\"Calculate the average preference score for the movie among the group members.\"\"\"\n",
    "    return np.mean([preference_score(user, movie) for user in group])\n",
    "\n",
    "def leastScore(group, movie, user_ratings):\n",
    "    \"\"\"Calculate the minimum preference score for the movie among the group members.\"\"\"\n",
    "    return min([preference_score(user, movie) for user in group])"
   ],
   "outputs": [],
   "execution_count": 35
  },
  {
   "metadata": {},
   "cell_type": "markdown",
   "source": [
    "### Generate Sequential Recommendations\n",
    "The `generate_sequential_recommendations` function generates sequential recommendations for a group of users. It uses three components to generate recommendations: average score (group preference), least score (fairness), and genre diversity (variety). The function iterates over the specified number of rounds and updates the weights for the three components based on the group satisfaction, disagreement, and diversity scores. It prints the group recommendations for each iteration."
   ]
  },
  {
   "metadata": {
    "ExecuteTime": {
     "end_time": "2024-11-16T01:06:32.229820Z",
     "start_time": "2024-11-16T01:06:31.781717Z"
    }
   },
   "cell_type": "code",
   "source": [
    "def generate_sequential_recommendations(\n",
    "        group,\n",
    "        user_ratings,\n",
    "        movies,\n",
    "        movie_genres,\n",
    "        iterations=10,\n",
    "        top_k=10,\n",
    "        alpha=0,  # weight for least score\n",
    "        beta=1,  # weight for average score\n",
    "        gamma=0,  # weight for diversity score\n",
    "):\n",
    "    \"\"\"\n",
    "    Enhanced sequential recommendation generator with three components:\n",
    "    1. Average Score (group preference)\n",
    "    2. Least Score (fairness)\n",
    "    3. Genre Diversity (variety)\n",
    "\n",
    "    Args:\n",
    "        group: List of user IDs\n",
    "        user_ratings: Dict of user ratings\n",
    "        movies: List of available movies\n",
    "        movie_genres: Dict mapping movie IDs to their genres\n",
    "        iterations: Number of recommendation rounds\n",
    "        top_k: Number of recommendations per round\n",
    "        alpha: Weight for least score\n",
    "        beta: Weight for average score\n",
    "        gamma: Weight for diversity score\n",
    "    \"\"\"\n",
    "    assert abs((alpha + beta + gamma) - 1.0) < 1e-6, \"Weights must sum to 1\"\n",
    "\n",
    "    group_recommendations = []\n",
    "    movie_scores = defaultdict(float)\n",
    "    user_satisfactions = defaultdict(float)\n",
    "\n",
    "    # Calculate ideal satisfaction for each user\n",
    "    for user in group:\n",
    "        top_user_prefs = sorted(user_ratings[user].items(), key=lambda x: x[1], reverse=True)[:top_k]\n",
    "        user_satisfactions[user] = sum([score for _, score in top_user_prefs])\n",
    "\n",
    "    for iteration in range(iterations):\n",
    "        print(f\"Iteration {iteration + 1} progress\")\n",
    "        print(f\"Current weights - α: {alpha:.2f}, β: {beta:.2f}, γ: {gamma:.2f}\\n\")\n",
    "        movies_iterator = movies\n",
    "        if iteration == 0:\n",
    "            sleep(0.001)\n",
    "            movies_iterator = tqdm(movies_iterator, desc=\"Calculating scores for each user-movie pair and storing them\")\n",
    "\n",
    "        # Calculate scores for each movie\n",
    "        for movie in movies_iterator:\n",
    "            avg_score = avgScore(group, movie, user_ratings)\n",
    "            least_score = leastScore(group, movie, user_ratings)\n",
    "\n",
    "            # Calculate temporary recommendations with this movie\n",
    "            temp_recommendations = group_recommendations[-1][:top_k - 1] + [movie] if group_recommendations else [movie]\n",
    "            diversity_score = calculate_genre_diversity(group, temp_recommendations, movie_genres, user_ratings)\n",
    "\n",
    "            # Combine scores with weights\n",
    "            movie_scores[movie] = (alpha * least_score +\n",
    "                                   beta * avg_score +\n",
    "                                   gamma * diversity_score)\n",
    "\n",
    "        # Select top movies based on combined score\n",
    "        top_movies = sorted(movie_scores, key=movie_scores.get, reverse=True)[:top_k]\n",
    "        group_recommendations.append(top_movies)\n",
    "\n",
    "        # Calculate metrics\n",
    "        group_sat = calculate_group_satisfaction(group, top_movies, user_ratings, user_satisfactions)\n",
    "        group_dis = calculate_group_disagreement(group, top_movies, user_ratings, user_satisfactions)\n",
    "        group_div = calculate_genre_diversity(group, top_movies, movie_genres, user_ratings)\n",
    "\n",
    "        # Update weights based on metrics with distinct strategies\n",
    "        # If satisfaction is low, increase beta (satisfaction weight)\n",
    "        if group_sat < 0.7:  # threshold for \"low\" satisfaction\n",
    "            beta = min(0.6, beta + 0.05)  # increase but cap at 0.6\n",
    "\n",
    "        # If disagreement is high, increase alpha (fairness weight)\n",
    "        if group_dis > 0.20:  # threshold for \"high\" disagreement\n",
    "            alpha = min(0.5, alpha + 0.05)  # increase but cap at 0.5\n",
    "\n",
    "        # If diversity is low, increase gamma (diversity weight)\n",
    "        if group_div < 0.9:  # threshold for \"low\" diversity\n",
    "            gamma = min(0.4, gamma + 0.05)  # increase but cap at 0.4\n",
    "\n",
    "        # Normalize weights to sum to 1\n",
    "        total = alpha + beta + gamma\n",
    "        alpha = alpha / total\n",
    "        beta = beta / total\n",
    "        gamma = gamma / total\n",
    "\n",
    "        print(f\"\\nIteration {iteration + 1}\")\n",
    "        print(f\"Top Movies: {top_movies}\")\n",
    "        print(f\"Group Satisfaction: {group_sat:.3f}\")\n",
    "        print(f\"Group Disagreement: {group_dis:.3f}\")\n",
    "        print(f\"Genre Diversity: {group_div:.3f}\")\n",
    "\n",
    "        sleep(0.001)\n",
    "\n",
    "    return group_recommendations"
   ],
   "outputs": [],
   "execution_count": 36
  },
  {
   "metadata": {},
   "cell_type": "markdown",
   "source": "## Example"
  },
  {
   "metadata": {
    "ExecuteTime": {
     "end_time": "2024-11-16T01:12:21.934701Z",
     "start_time": "2024-11-16T01:12:19.894158Z"
    }
   },
   "cell_type": "code",
   "source": [
    "sample_group = [597, 217, 66, 177, 274, 391, 483, 561, 414, 509, 160]\n",
    "\n",
    "user_ratings = raw_df[raw_df[\"userId\"].isin(sample_group)].groupby('userId')[['movieId', 'rating']].apply(\n",
    "    lambda x: dict(zip(x['movieId'], x['rating']))).to_dict()\n",
    "group_users_movies = user_movie_matrix[user_movie_matrix['userId'].isin(sample_group)].dropna(axis=1, how='all').columns.tolist()[1:]\n",
    "movies = random.sample([m for m in raw_df['movieId'].unique() if m not in group_users_movies], 100)\n",
    "movie_genres = get_movie_genres(movies)"
   ],
   "outputs": [],
   "execution_count": 41
  },
  {
   "metadata": {
    "ExecuteTime": {
     "end_time": "2024-11-16T01:12:42.559309Z",
     "start_time": "2024-11-16T01:12:22.853205Z"
    }
   },
   "cell_type": "code",
   "source": [
    "# Run the sequential group recommendation process\n",
    "recommendations = generate_sequential_recommendations(sample_group, user_ratings, movies, movie_genres)"
   ],
   "outputs": [
    {
     "name": "stdout",
     "output_type": "stream",
     "text": [
      "Iteration 1 progress\n",
      "Current weights - α: 0.00, β: 1.00, γ: 0.00\n",
      "\n"
     ]
    },
    {
     "name": "stderr",
     "output_type": "stream",
     "text": [
      "Calculating scores for each user-movie pair and storing them: 100%|██████████| 100/100 [00:19<00:00,  5.09it/s]"
     ]
    },
    {
     "name": "stdout",
     "output_type": "stream",
     "text": [
      "\n",
      "Iteration 1\n",
      "Top Movies: [np.int64(87234), np.int64(59143), np.int64(84414), np.int64(7706), np.int64(3046), np.int64(116897), np.int64(165947), np.int64(4399), np.int64(117887), np.int64(4263)]\n",
      "Group Satisfaction: 0.815\n",
      "Group Disagreement: 0.314\n",
      "Genre Diversity: 0.855\n",
      "Iteration 2 progress\n",
      "Current weights - α: 0.05, β: 0.91, γ: 0.05\n",
      "\n",
      "\n",
      "Iteration 2\n",
      "Top Movies: [np.int64(87234), np.int64(59143), np.int64(84414), np.int64(7706), np.int64(3046), np.int64(116897), np.int64(165947), np.int64(4399), np.int64(4263), np.int64(115122)]\n",
      "Group Satisfaction: 0.814\n",
      "Group Disagreement: 0.283\n",
      "Genre Diversity: 0.855\n",
      "Iteration 3 progress\n",
      "Current weights - α: 0.09, β: 0.83, γ: 0.09\n",
      "\n",
      "\n",
      "Iteration 3\n",
      "Top Movies: [np.int64(87234), np.int64(59143), np.int64(84414), np.int64(7706), np.int64(3046), np.int64(116897), np.int64(4263), np.int64(115122), np.int64(165947), np.int64(4399)]\n",
      "Group Satisfaction: 0.814\n",
      "Group Disagreement: 0.283\n",
      "Genre Diversity: 0.855\n",
      "Iteration 4 progress\n",
      "Current weights - α: 0.12, β: 0.75, γ: 0.12\n",
      "\n",
      "\n",
      "Iteration 4\n",
      "Top Movies: [np.int64(87234), np.int64(59143), np.int64(84414), np.int64(7706), np.int64(3046), np.int64(116897), np.int64(4263), np.int64(115122), np.int64(4399), np.int64(165947)]\n",
      "Group Satisfaction: 0.814\n",
      "Group Disagreement: 0.283\n",
      "Genre Diversity: 0.855\n",
      "Iteration 5 progress\n",
      "Current weights - α: 0.16, β: 0.68, γ: 0.16\n",
      "\n",
      "\n",
      "Iteration 5\n",
      "Top Movies: [np.int64(87234), np.int64(59143), np.int64(84414), np.int64(7706), np.int64(3046), np.int64(116897), np.int64(115122), np.int64(4263), np.int64(4399), np.int64(4190)]\n",
      "Group Satisfaction: 0.810\n",
      "Group Disagreement: 0.271\n",
      "Genre Diversity: 0.852\n",
      "Iteration 6 progress\n",
      "Current weights - α: 0.19, β: 0.62, γ: 0.19\n",
      "\n",
      "\n",
      "Iteration 6\n",
      "Top Movies: [np.int64(87234), np.int64(59143), np.int64(84414), np.int64(7706), np.int64(3046), np.int64(116897), np.int64(115122), np.int64(4263), np.int64(4190), np.int64(4399)]\n",
      "Group Satisfaction: 0.810\n",
      "Group Disagreement: 0.271\n",
      "Genre Diversity: 0.852\n",
      "Iteration 7 progress\n",
      "Current weights - α: 0.22, β: 0.56, γ: 0.22\n",
      "\n",
      "\n",
      "Iteration 7\n",
      "Top Movies: [np.int64(59143), np.int64(84414), np.int64(87234), np.int64(7706), np.int64(3046), np.int64(116897), np.int64(115122), np.int64(4263), np.int64(4190), np.int64(4399)]\n",
      "Group Satisfaction: 0.810\n",
      "Group Disagreement: 0.271\n",
      "Genre Diversity: 0.852\n",
      "Iteration 8 progress\n",
      "Current weights - α: 0.24, β: 0.51, γ: 0.24\n",
      "\n",
      "\n",
      "Iteration 8\n",
      "Top Movies: [np.int64(84414), np.int64(59143), np.int64(7706), np.int64(3046), np.int64(87234), np.int64(116897), np.int64(115122), np.int64(4263), np.int64(4190), np.int64(4399)]\n",
      "Group Satisfaction: 0.810\n",
      "Group Disagreement: 0.271\n",
      "Genre Diversity: 0.852\n",
      "Iteration 9 progress\n",
      "Current weights - α: 0.27, β: 0.47, γ: 0.27\n",
      "\n",
      "\n",
      "Iteration 9\n",
      "Top Movies: [np.int64(84414), np.int64(59143), np.int64(7706), np.int64(3046), np.int64(87234), np.int64(115122), np.int64(4263), np.int64(116897), np.int64(4190), np.int64(4399)]\n",
      "Group Satisfaction: 0.810\n",
      "Group Disagreement: 0.271\n",
      "Genre Diversity: 0.852\n",
      "Iteration 10 progress\n",
      "Current weights - α: 0.29, β: 0.42, γ: 0.29\n",
      "\n",
      "\n",
      "Iteration 10\n",
      "Top Movies: [np.int64(84414), np.int64(59143), np.int64(7706), np.int64(3046), np.int64(87234), np.int64(115122), np.int64(4263), np.int64(116897), np.int64(4190), np.int64(4626)]\n",
      "Group Satisfaction: 0.806\n",
      "Group Disagreement: 0.271\n",
      "Genre Diversity: 0.882\n"
     ]
    },
    {
     "name": "stderr",
     "output_type": "stream",
     "text": [
      "\n"
     ]
    }
   ],
   "execution_count": 42
  },
  {
   "metadata": {
    "jupyter": {
     "is_executing": true
    }
   },
   "cell_type": "code",
   "source": "",
   "outputs": [],
   "execution_count": null
  }
 ],
 "metadata": {
  "colab": {
   "collapsed_sections": [
    "9i9ZaydaQjcj",
    "wn_6xpQpPJA3"
   ],
   "provenance": []
  },
  "kernelspec": {
   "display_name": "Python 3 (ipykernel)",
   "language": "python",
   "name": "python3"
  },
  "language_info": {
   "codemirror_mode": {
    "name": "ipython",
    "version": 3
   },
   "file_extension": ".py",
   "mimetype": "text/x-python",
   "name": "python",
   "nbconvert_exporter": "python",
   "pygments_lexer": "ipython3",
   "version": "3.9.20"
  }
 },
 "nbformat": 4,
 "nbformat_minor": 4
}
