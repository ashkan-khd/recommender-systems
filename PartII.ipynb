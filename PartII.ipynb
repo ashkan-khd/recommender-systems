{
 "cells": [
  {
   "cell_type": "markdown",
   "metadata": {
    "id": "zwPruqU0MJFR"
   },
   "source": "# Sequential Group Recommendations in MovieLens 100K"
  },
  {
   "cell_type": "markdown",
   "metadata": {
    "id": "TkQuQR7KMN8V"
   },
   "source": [
    "\n",
    "**Authors**: Ashkan Khademian, Ujunwa Edum\\\n",
    "**Project Part**: Part I\\\n",
    "**Course**: DATA.ML.360-2024-2025-1 Recommender Systems"
   ]
  },
  {
   "cell_type": "markdown",
   "metadata": {
    "id": "Fn8JDrAROlvp"
   },
   "source": [
    "# Foundations"
   ]
  },
  {
   "cell_type": "markdown",
   "metadata": {
    "id": "9i9ZaydaQjcj"
   },
   "source": [
    "## Introduction\n",
    "Lorem ipsum"
   ]
  },
  {
   "cell_type": "markdown",
   "metadata": {
    "id": "wn_6xpQpPJA3"
   },
   "source": [
    "## Install Requirements"
   ]
  },
  {
   "cell_type": "markdown",
   "metadata": {
    "id": "fgzAenmNQIen"
   },
   "source": [
    "Use the comment template for installing your packages that are not already present in the google colab environment."
   ]
  },
  {
   "cell_type": "code",
   "metadata": {
    "id": "sm4JvJzXPIgH",
    "ExecuteTime": {
     "end_time": "2024-11-14T23:16:54.457637Z",
     "start_time": "2024-11-14T23:16:54.453809Z"
    }
   },
   "source": [
    "# !pip install <package-name>"
   ],
   "outputs": [],
   "execution_count": 1
  },
  {
   "cell_type": "markdown",
   "metadata": {
    "id": "ATPOXwHmQQza"
   },
   "source": [
    "## Import Libararies"
   ]
  },
  {
   "cell_type": "markdown",
   "metadata": {
    "id": "QTxSKRH-WJYj"
   },
   "source": [
    "### Main Libraries"
   ]
  },
  {
   "cell_type": "code",
   "metadata": {
    "id": "4O0DPlYWQZgY",
    "ExecuteTime": {
     "end_time": "2024-11-14T23:16:54.733503Z",
     "start_time": "2024-11-14T23:16:54.504374Z"
    }
   },
   "source": [
    "import random\n",
    "import typing\n",
    "from time import sleep\n",
    "from collections import defaultdict\n",
    "\n",
    "from tqdm import tqdm\n",
    "import numpy as np\n",
    "import pandas as pd\n",
    "import matplotlib.pyplot as plt\n",
    "import seaborn as sns\n",
    "from itertools import combinations"
   ],
   "outputs": [],
   "execution_count": 2
  },
  {
   "metadata": {},
   "cell_type": "markdown",
   "source": "## Part II Utils"
  },
  {
   "metadata": {
    "ExecuteTime": {
     "end_time": "2024-11-14T23:16:54.901719Z",
     "start_time": "2024-11-14T23:16:54.883764Z"
    }
   },
   "cell_type": "code",
   "source": "from part2_utils.predict_user_rating import predict_user_rating",
   "outputs": [],
   "execution_count": 3
  },
  {
   "cell_type": "markdown",
   "metadata": {
    "id": "zHLbWl9EWL--"
   },
   "source": [
    "### Typing"
   ]
  },
  {
   "cell_type": "code",
   "metadata": {
    "id": "XIDzKAbnWQPr",
    "ExecuteTime": {
     "end_time": "2024-11-14T23:16:55.047323Z",
     "start_time": "2024-11-14T23:16:54.933722Z"
    }
   },
   "source": [
    "from typing import *\n",
    "from pandas.core.frame import DataFrame, Series"
   ],
   "outputs": [],
   "execution_count": 4
  },
  {
   "cell_type": "markdown",
   "metadata": {
    "id": "MwUERVVoSvSt"
   },
   "source": [
    "## Define Constants"
   ]
  },
  {
   "cell_type": "code",
   "metadata": {
    "id": "WD4SLoO5SzW9",
    "ExecuteTime": {
     "end_time": "2024-11-14T23:16:55.222694Z",
     "start_time": "2024-11-14T23:16:55.052328Z"
    }
   },
   "source": [
    "RATING_DATASET = \"data/ml-latest-small/ratings.csv\""
   ],
   "outputs": [],
   "execution_count": 5
  },
  {
   "metadata": {},
   "cell_type": "markdown",
   "source": "# Sequential Group Recommendation"
  },
  {
   "metadata": {},
   "cell_type": "markdown",
   "source": "## Load Data"
  },
  {
   "metadata": {
    "ExecuteTime": {
     "end_time": "2024-11-14T23:16:55.433959Z",
     "start_time": "2024-11-14T23:16:55.239741Z"
    }
   },
   "cell_type": "code",
   "source": "raw_df = pd.read_csv(RATING_DATASET)",
   "outputs": [],
   "execution_count": 6
  },
  {
   "metadata": {},
   "cell_type": "markdown",
   "source": [
    "### Transform CSV DataFrame to User-Movies Matrix\n",
    "The `transform_csv_dataframe_to_user_movies_matrix` function transforms the DataFrame resulted from the dataset CSV into a user-movies matrix where the rows represent users, the columns represent movies, and the values represent the ratings given by users to movies."
   ]
  },
  {
   "metadata": {
    "id": "FIGTM-LIHNsh",
    "ExecuteTime": {
     "end_time": "2024-11-14T23:16:55.505893Z",
     "start_time": "2024-11-14T23:16:55.448820Z"
    }
   },
   "cell_type": "code",
   "source": [
    "def transform_csv_dataframe_to_user_movies_matrix(csv_df: DataFrame) -> DataFrame:\n",
    "  user_movie_matrix = csv_df.pivot(index='userId', columns='movieId', values='rating')\n",
    "  user_movie_matrix.reset_index(inplace=True)\n",
    "  user_movie_matrix.columns.name = None\n",
    "  return user_movie_matrix"
   ],
   "outputs": [],
   "execution_count": 7
  },
  {
   "metadata": {
    "ExecuteTime": {
     "end_time": "2024-11-14T23:16:55.710126Z",
     "start_time": "2024-11-14T23:16:55.520402Z"
    }
   },
   "cell_type": "code",
   "source": "user_movie_matrix = transform_csv_dataframe_to_user_movies_matrix(raw_df)",
   "outputs": [],
   "execution_count": 8
  },
  {
   "metadata": {},
   "cell_type": "markdown",
   "source": "## Preference Score"
  },
  {
   "metadata": {
    "ExecuteTime": {
     "end_time": "2024-11-14T23:16:55.827241Z",
     "start_time": "2024-11-14T23:16:55.728834Z"
    }
   },
   "cell_type": "code",
   "source": [
    "def preference_score(user_id, movie_id):\n",
    "    return predict_user_rating(user_movie_matrix, user_id, movie_id)"
   ],
   "outputs": [],
   "execution_count": 9
  },
  {
   "metadata": {
    "ExecuteTime": {
     "end_time": "2024-11-14T23:16:56.080862Z",
     "start_time": "2024-11-14T23:16:55.846635Z"
    }
   },
   "cell_type": "code",
   "source": [
    "def calculate_user_satisfaction(user_id, group_rec, user_ratings, user_satisfactions):\n",
    "    \"\"\"\n",
    "    Calculate user satisfaction based on the group recommendations.\n",
    "    \"\"\"\n",
    "    user_ideal_satisfaction = user_satisfactions[user_id]\n",
    "    group_satisfaction = sum([preference_score(user_id, movie) for movie in group_rec])\n",
    "    return group_satisfaction / user_ideal_satisfaction if user_ideal_satisfaction > 0 else 0"
   ],
   "outputs": [],
   "execution_count": 10
  },
  {
   "metadata": {
    "ExecuteTime": {
     "end_time": "2024-11-14T23:16:56.229142Z",
     "start_time": "2024-11-14T23:16:56.150500Z"
    }
   },
   "cell_type": "code",
   "source": [
    "def calculate_group_satisfaction(group, group_rec, user_ratings, user_satisfactions):\n",
    "    \"\"\"\n",
    "    Calculate average satisfaction across all users in the group.\n",
    "    \"\"\"\n",
    "    individual_satisfactions = [calculate_user_satisfaction(user, group_rec, user_ratings, user_satisfactions) for user in group]\n",
    "    return np.mean(individual_satisfactions)\n"
   ],
   "outputs": [],
   "execution_count": 11
  },
  {
   "metadata": {
    "ExecuteTime": {
     "end_time": "2024-11-14T23:16:56.377123Z",
     "start_time": "2024-11-14T23:16:56.247495Z"
    }
   },
   "cell_type": "code",
   "source": [
    "def calculate_group_disagreement(group, group_rec, user_ratings, user_satisfactions):\n",
    "    \"\"\"\n",
    "    Calculate disagreement within the group as the difference between max and min satisfaction.\n",
    "    \"\"\"\n",
    "    individual_satisfactions = [calculate_user_satisfaction(user, group_rec, user_ratings, user_satisfactions) for user in group]\n",
    "    return max(individual_satisfactions) - min(individual_satisfactions)"
   ],
   "outputs": [],
   "execution_count": 12
  },
  {
   "metadata": {
    "ExecuteTime": {
     "end_time": "2024-11-14T23:16:56.524088Z",
     "start_time": "2024-11-14T23:16:56.395698Z"
    }
   },
   "cell_type": "code",
   "source": [
    "def avgScore(group, movie, user_ratings):\n",
    "    \"\"\"Calculate the average preference score for the movie among the group members.\"\"\"\n",
    "    return np.mean([preference_score(user, movie) for user in group])\n",
    "\n",
    "def leastScore(group, movie, user_ratings):\n",
    "    \"\"\"Calculate the minimum preference score for the movie among the group members.\"\"\"\n",
    "    return min([preference_score(user, movie) for user in group])"
   ],
   "outputs": [],
   "execution_count": 13
  },
  {
   "metadata": {
    "ExecuteTime": {
     "end_time": "2024-11-14T23:16:56.697256Z",
     "start_time": "2024-11-14T23:16:56.548458Z"
    }
   },
   "cell_type": "code",
   "source": [
    "def generate_sequential_recommendations(\n",
    "    group, \n",
    "    user_ratings, \n",
    "    movies, \n",
    "    iterations=5, \n",
    "    top_k=10, \n",
    "    alpha=0.0,\n",
    "):\n",
    "    group_recommendations = []\n",
    "    movie_scores = defaultdict(float)  # Persist movie scores across iterations for dynamic weighting\n",
    "    user_satisfactions = defaultdict(float)  # Persist user satisfaction scores across iterations for dynamic weighting\n",
    "    \n",
    "    for user in group:\n",
    "        top_user_prefs = sorted(user_ratings[user].items(), key=lambda x: x[1], reverse=True)[:top_k]\n",
    "        user_satisfactions[user] = sum([score for _, score in top_user_prefs])\n",
    "\n",
    "    for iteration in range(iterations):\n",
    "        # Calculate movie scores based on the new weighted combination of avgScore and leastScore\n",
    "        for movie in tqdm(movies, desc=f\"Calculating movie scores for iteration {iteration}\"):\n",
    "            avg_score = avgScore(group, movie, user_ratings)\n",
    "            least_score = leastScore(group, movie, user_ratings)\n",
    "            movie_scores[movie] = alpha * least_score + (1 - alpha) * avg_score\n",
    "\n",
    "        # Sort movies by the adjusted group preference scores and select the top recommendations\n",
    "        top_movies = sorted(movie_scores, key=movie_scores.get, reverse=True)[:top_k]\n",
    "        group_recommendations.append(top_movies)\n",
    "\n",
    "        # Calculate and log satisfaction and disagreement metrics\n",
    "        group_sat = calculate_group_satisfaction(group, top_movies, user_ratings, user_satisfactions)\n",
    "        group_dis = calculate_group_disagreement(group, top_movies, user_ratings, user_satisfactions)\n",
    "        alpha = group_dis\n",
    "\n",
    "        print(f\"Iteration {iteration + 1}\")\n",
    "        print(f\"Top Movies: {top_movies}\")\n",
    "        print(f\"Group Satisfaction: {group_sat:.3f}\")\n",
    "        print(f\"Group Disagreement: {group_dis:.3f}\\n\")\n",
    "        sleep(0.001)\n",
    "\n",
    "    return group_recommendations\n"
   ],
   "outputs": [],
   "execution_count": 14
  },
  {
   "metadata": {
    "ExecuteTime": {
     "end_time": "2024-11-14T23:16:58.246936Z",
     "start_time": "2024-11-14T23:16:56.715563Z"
    }
   },
   "cell_type": "code",
   "source": [
    "sample_group = [597, 217, 66, 177, 274, 391, 483, 561, 414, 509, 160]\n",
    "\n",
    "user_ratings = raw_df[raw_df[\"userId\"].isin(sample_group)].groupby('userId')[['movieId', 'rating']].apply(\n",
    "    lambda x: dict(zip(x['movieId'], x['rating']))).to_dict()\n",
    "group_users_movies = user_movie_matrix[user_movie_matrix['userId'].isin(sample_group)].dropna(axis=1, how='all').columns.tolist()[1:]\n",
    "movies = random.sample([m for m in raw_df['movieId'].unique() if m not in group_users_movies], 100)"
   ],
   "outputs": [],
   "execution_count": 15
  },
  {
   "metadata": {
    "ExecuteTime": {
     "end_time": "2024-11-14T23:20:51.279443Z",
     "start_time": "2024-11-14T23:16:58.269418Z"
    }
   },
   "cell_type": "code",
   "source": [
    "# Run the sequential group recommendation process\n",
    "recommendations = generate_sequential_recommendations(sample_group, user_ratings, movies)"
   ],
   "outputs": [
    {
     "name": "stderr",
     "output_type": "stream",
     "text": [
      "Calculating movie scores for iteration 0: 100%|██████████| 100/100 [00:42<00:00,  2.35it/s]\n"
     ]
    },
    {
     "name": "stdout",
     "output_type": "stream",
     "text": [
      "Iteration 1\n",
      "Top Movies: [np.int64(4956), np.int64(1533), np.int64(66744), np.int64(72308), np.int64(5544), np.int64(125974), np.int64(27820), np.int64(6918), np.int64(3742), np.int64(7743)]\n",
      "Group Satisfaction: 0.776\n",
      "Group Disagreement: 0.265\n",
      "\n"
     ]
    },
    {
     "name": "stderr",
     "output_type": "stream",
     "text": [
      "Calculating movie scores for iteration 1: 100%|██████████| 100/100 [00:41<00:00,  2.42it/s]\n"
     ]
    },
    {
     "name": "stdout",
     "output_type": "stream",
     "text": [
      "Iteration 2\n",
      "Top Movies: [np.int64(4956), np.int64(1533), np.int64(66744), np.int64(125974), np.int64(72308), np.int64(5544), np.int64(6918), np.int64(3742), np.int64(27820), np.int64(897)]\n",
      "Group Satisfaction: 0.774\n",
      "Group Disagreement: 0.240\n",
      "\n"
     ]
    },
    {
     "name": "stderr",
     "output_type": "stream",
     "text": [
      "Calculating movie scores for iteration 2: 100%|██████████| 100/100 [00:43<00:00,  2.32it/s]\n"
     ]
    },
    {
     "name": "stdout",
     "output_type": "stream",
     "text": [
      "Iteration 3\n",
      "Top Movies: [np.int64(4956), np.int64(1533), np.int64(66744), np.int64(72308), np.int64(125974), np.int64(5544), np.int64(6918), np.int64(3742), np.int64(27820), np.int64(897)]\n",
      "Group Satisfaction: 0.774\n",
      "Group Disagreement: 0.240\n",
      "\n"
     ]
    },
    {
     "name": "stderr",
     "output_type": "stream",
     "text": [
      "Calculating movie scores for iteration 3: 100%|██████████| 100/100 [00:41<00:00,  2.43it/s]\n"
     ]
    },
    {
     "name": "stdout",
     "output_type": "stream",
     "text": [
      "Iteration 4\n",
      "Top Movies: [np.int64(4956), np.int64(1533), np.int64(66744), np.int64(72308), np.int64(125974), np.int64(5544), np.int64(6918), np.int64(3742), np.int64(27820), np.int64(897)]\n",
      "Group Satisfaction: 0.774\n",
      "Group Disagreement: 0.240\n",
      "\n"
     ]
    },
    {
     "name": "stderr",
     "output_type": "stream",
     "text": [
      "Calculating movie scores for iteration 4: 100%|██████████| 100/100 [00:40<00:00,  2.45it/s]\n"
     ]
    },
    {
     "name": "stdout",
     "output_type": "stream",
     "text": [
      "Iteration 5\n",
      "Top Movies: [np.int64(4956), np.int64(1533), np.int64(66744), np.int64(72308), np.int64(125974), np.int64(5544), np.int64(6918), np.int64(3742), np.int64(27820), np.int64(897)]\n",
      "Group Satisfaction: 0.774\n",
      "Group Disagreement: 0.240\n",
      "\n"
     ]
    }
   ],
   "execution_count": 16
  },
  {
   "metadata": {
    "jupyter": {
     "is_executing": true
    }
   },
   "cell_type": "code",
   "source": "",
   "outputs": [],
   "execution_count": null
  }
 ],
 "metadata": {
  "colab": {
   "collapsed_sections": [
    "9i9ZaydaQjcj",
    "wn_6xpQpPJA3"
   ],
   "provenance": []
  },
  "kernelspec": {
   "display_name": "Python 3 (ipykernel)",
   "language": "python",
   "name": "python3"
  },
  "language_info": {
   "codemirror_mode": {
    "name": "ipython",
    "version": 3
   },
   "file_extension": ".py",
   "mimetype": "text/x-python",
   "name": "python",
   "nbconvert_exporter": "python",
   "pygments_lexer": "ipython3",
   "version": "3.9.20"
  }
 },
 "nbformat": 4,
 "nbformat_minor": 4
}
