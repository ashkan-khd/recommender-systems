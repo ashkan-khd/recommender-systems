{
 "cells": [
  {
   "cell_type": "markdown",
   "metadata": {
    "id": "zwPruqU0MJFR"
   },
   "source": [
    "# Notebook Title"
   ]
  },
  {
   "cell_type": "markdown",
   "metadata": {
    "id": "TkQuQR7KMN8V"
   },
   "source": [
    "\n",
    "**Authors**: Ashkan Khademian, Ujunwa Edum\\\n",
    "**Project Part**: Part I\\\n",
    "**Course**: DATA.ML.360-2024-2025-1 Recommender Systems"
   ]
  },
  {
   "cell_type": "markdown",
   "metadata": {
    "id": "Fn8JDrAROlvp"
   },
   "source": [
    "# Foundations"
   ]
  },
  {
   "cell_type": "markdown",
   "metadata": {
    "id": "9i9ZaydaQjcj"
   },
   "source": [
    "## Introduction\n",
    "In this notebook, we introduce a model-agnostic method for providing counterfactual explanations for group recommendations. The method is based on the idea of finding the smallest set of items that, when removed, results in a change in the recommendation list. The method is inspired by the idea of conciseness, which is considered to be the most important characteristic of an explanation."
   ]
  },
  {
   "cell_type": "markdown",
   "metadata": {
    "id": "wn_6xpQpPJA3"
   },
   "source": [
    "## Install Requirements"
   ]
  },
  {
   "cell_type": "markdown",
   "metadata": {
    "id": "fgzAenmNQIen"
   },
   "source": [
    "Use the comment template for installing your packages that are not already present in the google colab environment."
   ]
  },
  {
   "cell_type": "code",
   "metadata": {
    "id": "sm4JvJzXPIgH",
    "ExecuteTime": {
     "end_time": "2024-12-03T22:37:49.128932Z",
     "start_time": "2024-12-03T22:37:49.125700Z"
    }
   },
   "source": [
    "# !pip install <package-name>"
   ],
   "outputs": [],
   "execution_count": 1
  },
  {
   "cell_type": "markdown",
   "metadata": {
    "id": "ATPOXwHmQQza"
   },
   "source": [
    "## Import Libararies"
   ]
  },
  {
   "cell_type": "markdown",
   "metadata": {
    "id": "QTxSKRH-WJYj"
   },
   "source": [
    "### Main Libraries"
   ]
  },
  {
   "cell_type": "code",
   "metadata": {
    "id": "4O0DPlYWQZgY",
    "ExecuteTime": {
     "end_time": "2024-12-03T22:37:54.028699Z",
     "start_time": "2024-12-03T22:37:49.134908Z"
    }
   },
   "source": [
    "import typing\n",
    "from time import sleep\n",
    "from dataclasses import dataclass\n",
    "from collections import defaultdict\n",
    "from functools import cached_property\n",
    "\n",
    "from tqdm import tqdm\n",
    "import hdbscan\n",
    "import numpy as np\n",
    "import pandas as pd\n",
    "import matplotlib.pyplot as plt\n",
    "import seaborn as sns\n",
    "from itertools import combinations\n",
    "from sentence_transformers import SentenceTransformer\n",
    "from part2_utils.predict_user_rating import transform_csv_dataframe_to_user_movies_matrix"
   ],
   "outputs": [
    {
     "name": "stderr",
     "output_type": "stream",
     "text": [
      "/home/ashk/.venv/recsys/lib/python3.9/site-packages/tqdm/auto.py:21: TqdmWarning: IProgress not found. Please update jupyter and ipywidgets. See https://ipywidgets.readthedocs.io/en/stable/user_install.html\n",
      "  from .autonotebook import tqdm as notebook_tqdm\n"
     ]
    }
   ],
   "execution_count": 2
  },
  {
   "cell_type": "markdown",
   "metadata": {
    "id": "zHLbWl9EWL--"
   },
   "source": [
    "### Typing"
   ]
  },
  {
   "cell_type": "code",
   "metadata": {
    "id": "XIDzKAbnWQPr",
    "ExecuteTime": {
     "end_time": "2024-12-03T22:37:54.138773Z",
     "start_time": "2024-12-03T22:37:54.132990Z"
    }
   },
   "source": [
    "from typing import *\n",
    "from pandas.core.frame import DataFrame, Series"
   ],
   "outputs": [],
   "execution_count": 3
  },
  {
   "cell_type": "markdown",
   "metadata": {
    "id": "MwUERVVoSvSt"
   },
   "source": [
    "## Define Constants"
   ]
  },
  {
   "cell_type": "code",
   "metadata": {
    "id": "WD4SLoO5SzW9",
    "ExecuteTime": {
     "end_time": "2024-12-03T22:37:54.461109Z",
     "start_time": "2024-12-03T22:37:54.173844Z"
    }
   },
   "source": [
    "UserIDType = int\n",
    "MovieIDType = int\n",
    "\n",
    "RatingType = float\n",
    "PreferenceScoreType = float\n",
    "\n",
    "MOVIE_DETAILS_DATASET = \"data/ml-latest-small/movies.csv\"\n",
    "USER_TAGS_FOR_MOVIES_DATASET = \"data/ml-latest-small/tags.csv\"\n",
    "\n",
    "RATINGS_DATASET = \"data/ml-latest-small/ratings.csv\""
   ],
   "outputs": [],
   "execution_count": 4
  },
  {
   "metadata": {},
   "cell_type": "markdown",
   "source": "# Counterfactual Explanation for Group Recommendations"
  },
  {
   "metadata": {},
   "cell_type": "markdown",
   "source": "## Data Classes"
  },
  {
   "metadata": {},
   "cell_type": "markdown",
   "source": [
    "Group represents the group of users for which we want to provide recommendations.\\\n",
    "Explanation represents the movies that we want to provide explanations for."
   ]
  },
  {
   "metadata": {
    "ExecuteTime": {
     "end_time": "2024-12-03T22:37:54.687055Z",
     "start_time": "2024-12-03T22:37:54.476795Z"
    }
   },
   "cell_type": "code",
   "source": [
    "@dataclass\n",
    "class Group:\n",
    "    users: List[UserIDType]\n",
    "\n",
    "    def get_item_intensity(\n",
    "            self,\n",
    "            movie: MovieIDType,\n",
    "            users_rated_movie: Callable[[UserIDType], List[MovieIDType]],\n",
    "    ) -> float:\n",
    "        return len([user for user in self.users if user in users_rated_movie(movie)])\n",
    "\n",
    "    def __len__(self):\n",
    "        return len(self.users)\n",
    "\n",
    "    def __iter__(self):\n",
    "        return iter(self.users)"
   ],
   "outputs": [],
   "execution_count": 5
  },
  {
   "metadata": {
    "ExecuteTime": {
     "end_time": "2024-12-03T22:37:54.972731Z",
     "start_time": "2024-12-03T22:37:54.700865Z"
    }
   },
   "cell_type": "code",
   "source": [
    "@dataclass\n",
    "class Explanation:\n",
    "    movies: List[MovieIDType]\n",
    "\n",
    "    def get_user_intensity(\n",
    "            self,\n",
    "            user: UserIDType,\n",
    "            movies_rated_for_user: Callable[[UserIDType], List[MovieIDType]],\n",
    "    ) -> float:\n",
    "        return len([movie for movie in self.movies if movie in movies_rated_for_user(user)])\n",
    "\n",
    "    def __len__(self):\n",
    "        return len(self.movies)\n",
    "\n",
    "    def __iter__(self):\n",
    "        return iter(self.movies)"
   ],
   "outputs": [],
   "execution_count": 6
  },
  {
   "metadata": {},
   "cell_type": "markdown",
   "source": "## Explanation Analysis"
  },
  {
   "metadata": {},
   "cell_type": "markdown",
   "source": [
    "### Explanation Analyzer\n",
    "The `ExplanationAnalyzer` class provides methods to analyze the explanation provided for a group of users. The class provides the following methods:\n",
    "- `get_popularity`: Returns the popularity of the explanation.\n",
    "- `get_normalized_popularity`: Returns the normalized popularity of the explanation.\n",
    "- `get_fairness`: Returns the fairness of the explanation.\n",
    "- `get_normalized_fairness`: Returns the normalized fairness of the explanation.\n",
    "- `get_conciceness`: Returns the conciseness of the explanation.\n",
    "- `calculate_explanation_score`: Returns the overall score of the explanation. The score is calculated as the average of the normalized popularity, normalized fairness, and conciseness."
   ]
  },
  {
   "metadata": {
    "ExecuteTime": {
     "end_time": "2024-12-03T22:37:55.270528Z",
     "start_time": "2024-12-03T22:37:54.989033Z"
    }
   },
   "cell_type": "code",
   "source": [
    "class ExplanationAnalyzer:\n",
    "    def __init__(\n",
    "            self,\n",
    "            group: Group,\n",
    "            explanation: Explanation,\n",
    "            users_rated_movie: Callable[[MovieIDType], List[UserIDType]],\n",
    "            movies_rated_for_user: Callable[[UserIDType], List[MovieIDType]],\n",
    "    ):\n",
    "        self.group = group\n",
    "        self.explanation = explanation\n",
    "        self.users_rated_movie = users_rated_movie\n",
    "        self.movies_rated_for_user = movies_rated_for_user\n",
    "\n",
    "    def get_popularity(self) -> float:\n",
    "        return sum(\n",
    "            [\n",
    "                self.group.get_item_intensity(movie, self.users_rated_movie)\n",
    "                for movie in self.explanation\n",
    "            ]\n",
    "        ) / len(self.explanation)\n",
    "\n",
    "    def get_normalized_popularity(self) -> float:\n",
    "        return self.get_popularity() / len(self.group)\n",
    "\n",
    "    def get_fairness(self) -> float:\n",
    "        users_intensity_list = [\n",
    "            self.explanation.get_user_intensity(user, self.movies_rated_for_user)\n",
    "            for user in self.group\n",
    "        ]\n",
    "        return max(users_intensity_list) - min(users_intensity_list)\n",
    "\n",
    "    def get_normalized_fairness(self) -> float:\n",
    "        return self.get_fairness() / len(self.explanation)\n",
    "\n",
    "    def get_conciceness(self) -> float:\n",
    "        return 1 / len(self.explanation)\n",
    "\n",
    "    def calculate_explanation_score(self) -> float:\n",
    "        return (self.get_normalized_popularity() + self.get_normalized_fairness() + self.get_conciceness()) / 3\n"
   ],
   "outputs": [],
   "execution_count": 7
  },
  {
   "metadata": {},
   "cell_type": "markdown",
   "source": "# Proposed Method"
  },
  {
   "metadata": {},
   "cell_type": "markdown",
   "source": [
    "## Baseline\n",
    "To generate explanations for a group, we first define the available search area, which is the items any group member interacts with:\n",
    "- Since we consider conciseness to be the most essential characteristic of an explanation, we sequentially test each potential combination of items $p$.\n",
    "- We remove these items from all group members’ interaction sets.\n",
    "- if removal of the subset resulted in not seeing the item $p$ in the recommendation list, we consider the subset as a valid explanation.\n",
    "\n",
    "if there exist multiple valid explanations, we select the one with the highest explanation score. The explanation score can be further calculated using three different metrics:\n",
    "- Popularity: The average popularity of the items in the explanation.\n",
    "- Fairness: The difference between the highest and lowest intensity of the items in the explanation.\n",
    "- Conciseness: The inverse of the number of items in the explanation.\n",
    "### Formulations\n",
    "for a group $G$ and an explanation $E$:\n",
    "- Item and User Intensity\n",
    "$$\n",
    "ItemIntensity(i) = |{u \\in G ; i \\in U(i)}|\n",
    "$$\n",
    "$$\n",
    "UserIntensity(u) = |{i \\in E ; u \\in I(u)}|\n",
    "$$\n",
    "- Popularity\n",
    "$$\n",
    "Popularity(E) = \\frac{\\sum_{i \\in E} ItemIntensity(i)}{|E|}\n",
    "$$\n",
    "- Fairness\n",
    "$$\n",
    "Fairness(E) = max(UserIntensity(u)) - min(UserIntensity(u))\n",
    "$$\n",
    "- Conciseness\n",
    "$$\n",
    "Conciseness(E) = \\frac{1}{|E|}\n",
    "$$\n",
    "## Our Method\n",
    "We confine the search space using three different strategies each called a `Filter`. the filters are further introduced in this notebook.\n",
    "Then for the resulted explanations, we calculate the explanation score using this average formula:\n",
    "$$\n",
    "ExplanationScore(E) = \\frac{1}{3}.(\\frac{Popularity(E)}{|G|} + \\frac{Fairness(E)}{|E|} + Conciseness(E))\n",
    "$$"
   ]
  },
  {
   "metadata": {},
   "cell_type": "markdown",
   "source": "## Filters"
  },
  {
   "metadata": {},
   "cell_type": "markdown",
   "source": "### Interface"
  },
  {
   "metadata": {
    "ExecuteTime": {
     "end_time": "2024-12-03T22:37:55.597800Z",
     "start_time": "2024-12-03T22:37:55.287195Z"
    }
   },
   "cell_type": "code",
   "source": [
    "class MoviePreferencesFilterInterface:\n",
    "\n",
    "    def __call__(self, preferences: List[MovieIDType]) -> List[MovieIDType]:\n",
    "        pass"
   ],
   "outputs": [],
   "execution_count": 8
  },
  {
   "metadata": {},
   "cell_type": "markdown",
   "source": "### Filter 1: Popularity Filter"
  },
  {
   "metadata": {},
   "cell_type": "markdown",
   "source": "`MoveGlobalPopularityFilter` removes the items that are not popular enough in the dataset. The popularity of an item is defined as the number of users who have interacted with it. The filter removes items with popularity below a certain percentile threshold."
  },
  {
   "metadata": {
    "ExecuteTime": {
     "end_time": "2024-12-03T22:37:55.912694Z",
     "start_time": "2024-12-03T22:37:55.616441Z"
    }
   },
   "cell_type": "code",
   "source": [
    "class MoveGlobalPopularityFilter(MoviePreferencesFilterInterface):\n",
    "\n",
    "    def __init__(self, user_movie_matrix: DataFrame, percentile_threshold: float = 0.3):\n",
    "        self.user_movie_matrix = user_movie_matrix\n",
    "        self.percentile_threshold = percentile_threshold\n",
    "\n",
    "    @cached_property\n",
    "    def movie_rating_counts(self):\n",
    "        user_movie_matrix_without_user_column = self.user_movie_matrix.drop(columns=['userId'])\n",
    "        movie_rating_counts = user_movie_matrix_without_user_column.notna().sum()\n",
    "        return movie_rating_counts\n",
    "\n",
    "    @cached_property\n",
    "    def popularity_percentile_value(self):\n",
    "        percentile_value = self.movie_rating_counts.quantile(self.percentile_threshold)\n",
    "        return percentile_value\n",
    "\n",
    "    def __call__(self, preferences: List[MovieIDType]) -> List[MovieIDType]:\n",
    "        return [movie for movie in preferences if self.movie_rating_counts[movie] > self.popularity_percentile_value]"
   ],
   "outputs": [],
   "execution_count": 9
  },
  {
   "metadata": {},
   "cell_type": "markdown",
   "source": "### Filter 2: Group Intensity Filter"
  },
  {
   "metadata": {},
   "cell_type": "markdown",
   "source": "`MovieGroupIntensityFilter` removes the items that are not intense enough for the group. The intensity of an item is defined as the number of group members who have interacted with it. The filter removes items with intensity below a certain threshold."
  },
  {
   "metadata": {
    "ExecuteTime": {
     "end_time": "2024-12-03T22:37:56.196898Z",
     "start_time": "2024-12-03T22:37:55.930001Z"
    }
   },
   "cell_type": "code",
   "source": [
    "class MovieGroupIntensityFilter(MoviePreferencesFilterInterface):\n",
    "\n",
    "    def __init__(\n",
    "            self,\n",
    "            group: Group,\n",
    "            users_rated_movie: Callable[[UserIDType], List[MovieIDType]],\n",
    "            intensity_threshold: Union[float, int] = 0.5\n",
    "    ):\n",
    "        self.group = group\n",
    "        self.users_rated_movie = users_rated_movie\n",
    "        if isinstance(intensity_threshold, float):\n",
    "            self.intensity_threshold = len(group) * intensity_threshold\n",
    "        else:\n",
    "            self.intensity_threshold = intensity_threshold\n",
    "\n",
    "    def __call__(self, preferences: List[MovieIDType]) -> List[MovieIDType]:\n",
    "        return [\n",
    "            movie\n",
    "            for movie in preferences\n",
    "            if self.group.get_item_intensity(movie, self.users_rated_movie) > self.intensity_threshold\n",
    "        ]"
   ],
   "outputs": [],
   "execution_count": 10
  },
  {
   "metadata": {},
   "cell_type": "markdown",
   "source": "### Filter 3: Preference Similar to Query Filter"
  },
  {
   "metadata": {},
   "cell_type": "markdown",
   "source": "#### Movie Clusters"
  },
  {
   "metadata": {},
   "cell_type": "markdown",
   "source": [
    "`Encoder` is a class that encodes the movie descriptions using the SentenceTransformer model.\\\n",
    "`MovieDesciber` is a class that generates a description for a movie using its genres and user tags. These descriptions are further encoded using the `Encoder` class."
   ]
  },
  {
   "metadata": {
    "ExecuteTime": {
     "end_time": "2024-12-03T22:37:56.444375Z",
     "start_time": "2024-12-03T22:37:56.212690Z"
    }
   },
   "cell_type": "code",
   "source": [
    "class Encoder:\n",
    "    def __init__(self, model_name=\"all-MiniLM-L6-v2\"):\n",
    "        self.model = SentenceTransformer(model_name)\n",
    "\n",
    "    def __call__(self, descriptive: str):\n",
    "        embedding = self.model.encode(descriptive, convert_to_numpy=True)\n",
    "        return embedding\n",
    "\n",
    "\n",
    "class MovieDesciber:\n",
    "    def __init__(self):\n",
    "        self.movie_details = pd.read_csv(MOVIE_DETAILS_DATASET)\n",
    "        self.user_tags_for_movies = pd.read_csv(USER_TAGS_FOR_MOVIES_DATASET)\n",
    "\n",
    "    def __call__(self, movie_id: MovieIDType):\n",
    "        genres = self.movie_details[self.movie_details['movieId'] == movie_id]['genres'].values[0]\n",
    "        description_list = set(genre.lower() for genre in genres.split('|'))\n",
    "\n",
    "        tags = self.user_tags_for_movies[self.user_tags_for_movies['movieId'] == movie_id]['tag'].tolist()\n",
    "        tags_set = set(tag.lower() for tag in tags)\n",
    "        description_list = description_list.union(tags_set)\n",
    "\n",
    "        description_string = \" \".join(description_list)\n",
    "        return description_string"
   ],
   "outputs": [],
   "execution_count": 11
  },
  {
   "metadata": {},
   "cell_type": "markdown",
   "source": [
    "`MoviesClustering` is a class that clusters movies based on their descriptions. The class uses the HDBSCAN clustering algorithm to cluster the movies. The class provides the following methods:\n",
    "- `cluster_movies`: Clusters the movies based on their descriptions (which is provided by `MovieDescriber`) and returns the clusters and the number of clusters."
   ]
  },
  {
   "metadata": {
    "ExecuteTime": {
     "end_time": "2024-12-03T22:37:56.754927Z",
     "start_time": "2024-12-03T22:37:56.461625Z"
    }
   },
   "cell_type": "code",
   "source": [
    "class MoviesClustering:\n",
    "    def __init__(self, movies: List[MovieIDType], min_cluster_size=None):\n",
    "        self.movies = movies\n",
    "        self.min_cluster_size = min_cluster_size\n",
    "        self.movie_encoder = Encoder()\n",
    "        self.movie_describer = MovieDesciber()\n",
    "\n",
    "    def get_movie_encodings(self):\n",
    "        movie_encodings = []\n",
    "        for movie_id in self.movies:\n",
    "            movie_description = self.movie_describer(movie_id)\n",
    "            movie_encodings.append(self.movie_encoder(movie_description))\n",
    "        return movie_encodings\n",
    "\n",
    "    def get_hdbscan_kwargs(self):\n",
    "        if self.min_cluster_size is not None:\n",
    "            return {\"min_cluster_size\": self.min_cluster_size}\n",
    "        return {}\n",
    "\n",
    "    def cluster_movies(self, important_index: Optional[int] = None):\n",
    "        movie_encodings = self.get_movie_encodings()\n",
    "        encodings_array = np.array(movie_encodings)\n",
    "\n",
    "        clusterer = hdbscan.HDBSCAN(**self.get_hdbscan_kwargs())\n",
    "        labels = clusterer.fit_predict(encodings_array)\n",
    "\n",
    "        # If the important movie is noise, adjust clustering\n",
    "        if important_index is not None and labels[important_index] == -1:\n",
    "            important_encoding = movie_encodings[important_index]\n",
    "            # Find the nearest non-noise cluster\n",
    "            cluster_indices = [i for i, label in enumerate(labels) if label != -1]\n",
    "            nearest_cluster_index = min(\n",
    "                cluster_indices,\n",
    "                key=lambda i: np.linalg.norm(movie_encodings[i] - important_encoding)\n",
    "            )\n",
    "            labels[important_index] = labels[nearest_cluster_index]\n",
    "\n",
    "        # Organize movie IDs into clusters\n",
    "        clusters = {}\n",
    "        for movie_id, label in zip(self.movies, labels):\n",
    "            if label != -1:  # Ignore noise points (label -1)\n",
    "                clusters.setdefault(label, []).append(movie_id)\n",
    "\n",
    "        # Convert clusters dictionary to a list of clusters\n",
    "        cluster_list = list(clusters.values())\n",
    "\n",
    "        # Return the clusters and the number of clusters\n",
    "        return cluster_list, len(cluster_list)"
   ],
   "outputs": [],
   "execution_count": 12
  },
  {
   "metadata": {},
   "cell_type": "markdown",
   "source": "#### Filter Based on Movie Clustering"
  },
  {
   "metadata": {},
   "cell_type": "markdown",
   "source": "`MovieQueryClusterFilter` removes the items that are not similar enough to the query item. The filter uses the clustering of the movies based on their descriptions. The filter removes items that are not in the same cluster as the query item. "
  },
  {
   "metadata": {
    "ExecuteTime": {
     "end_time": "2024-12-03T22:37:57.116919Z",
     "start_time": "2024-12-03T22:37:56.770810Z"
    }
   },
   "cell_type": "code",
   "source": [
    "class MovieQueryClusterFilter(MoviePreferencesFilterInterface):\n",
    "\n",
    "    def __init__(self, query: MovieIDType, cluster_threshold: Optional[Union[float, int]] = None):\n",
    "        self.query = query\n",
    "        self.cluster_threshold = cluster_threshold\n",
    "\n",
    "    def get_cluster_threshold(self, clustering_movies: List[MovieIDType]) -> int:\n",
    "        if self.cluster_threshold is None or isinstance(self.cluster_threshold, int):\n",
    "            return self.cluster_threshold\n",
    "        return int(len(clustering_movies) * self.cluster_threshold)\n",
    "\n",
    "    def get_clustering(self, clustering_movies: List[MovieIDType]) -> MoviesClustering:\n",
    "        return MoviesClustering(clustering_movies, self.get_cluster_threshold(clustering_movies))\n",
    "\n",
    "    def __call__(self, preferences: List[MovieIDType]) -> List[MovieIDType]:\n",
    "        clustering_movies = preferences\n",
    "        if not self.query in clustering_movies:\n",
    "            clustering_movies.append(self.query)\n",
    "\n",
    "        clustering = self.get_clustering(clustering_movies)\n",
    "        clusters, _ = clustering.cluster_movies(important_index=clustering_movies.index(self.query))\n",
    "        query_cluster = []\n",
    "        for cluster in clusters:\n",
    "            if self.query in cluster:\n",
    "                query_cluster = cluster\n",
    "                break\n",
    "\n",
    "        assert query_cluster, \"Don't know why the query cluster is empty\"\n",
    "\n",
    "        return [movie for movie in preferences if movie in query_cluster]"
   ],
   "outputs": [],
   "execution_count": 13
  },
  {
   "metadata": {},
   "cell_type": "markdown",
   "source": "### Composite Filter"
  },
  {
   "metadata": {},
   "cell_type": "markdown",
   "source": "`CompositeFilter` is a class that combines multiple filters. This class adheres to the `MoviePreferencesFilterInterface` interface so that it can be treated like a simple filter."
  },
  {
   "metadata": {
    "ExecuteTime": {
     "end_time": "2024-12-03T22:37:57.433099Z",
     "start_time": "2024-12-03T22:37:57.131619Z"
    }
   },
   "cell_type": "code",
   "source": [
    "class CompositeFilter(MoviePreferencesFilterInterface):\n",
    "\n",
    "    def __init__(self, filters: List[MoviePreferencesFilterInterface]):\n",
    "        self.filters = filters\n",
    "\n",
    "    def apply_filter(\n",
    "            self, preferences: List[MovieIDType], filter_: MoviePreferencesFilterInterface\n",
    "    ) -> List[MovieIDType]:\n",
    "        return filter_(preferences)\n",
    "\n",
    "    def __call__(self, preferences: List[MovieIDType]) -> List[MovieIDType]:\n",
    "        for filter_ in tqdm(self.filters, desc=\"Applying filters\"):\n",
    "            preferences = self.apply_filter(preferences, filter_)\n",
    "        return preferences\n",
    "    \n",
    "class CompositeFilterWithCondition(CompositeFilter):\n",
    "\n",
    "    def __init__(self, filters: List[MoviePreferencesFilterInterface], condition: Callable[[List[MovieIDType]], bool]):\n",
    "        super().__init__(filters)\n",
    "        self.condition = condition\n",
    "\n",
    "    def apply_filter(\n",
    "            self, preferences: List[MovieIDType], filter_: MoviePreferencesFilterInterface\n",
    "    ) -> List[MovieIDType]:\n",
    "        filtered_preferences = super().apply_filter(preferences, filter_)\n",
    "        if self.condition(filtered_preferences):\n",
    "            return filtered_preferences\n",
    "        return preferences"
   ],
   "outputs": [],
   "execution_count": 14
  },
  {
   "metadata": {},
   "cell_type": "markdown",
   "source": "## Implementation"
  },
  {
   "metadata": {},
   "cell_type": "markdown",
   "source": [
    "`GroupRecommendationModel` is a class that provides recommendations for a group of users. Since Counterfactual Explanation for Group Recommendations is a model-agnostic model, we don't take into account the model's specifics. The class provides the following methods:\n",
    "- `recommend`: Returns the recommendations for the group of users."
   ]
  },
  {
   "metadata": {
    "ExecuteTime": {
     "end_time": "2024-12-03T22:37:58.904767Z",
     "start_time": "2024-12-03T22:37:57.448767Z"
    }
   },
   "cell_type": "code",
   "source": [
    "from black_box.model_v2 import GroupRecommendationModel\n",
    "sample_group = [280, 528, 251, 43, 237, 149, 372, 114, 360, 366]\n",
    "model = GroupRecommendationModel(sample_group)"
   ],
   "outputs": [],
   "execution_count": 15
  },
  {
   "metadata": {},
   "cell_type": "markdown",
   "source": "this function returns the composite filter that combines the three filters."
  },
  {
   "metadata": {
    "ExecuteTime": {
     "end_time": "2024-12-03T22:37:58.922865Z",
     "start_time": "2024-12-03T22:37:58.918037Z"
    }
   },
   "cell_type": "code",
   "source": [
    "def get_preferences_filter(\n",
    "        group: Group,\n",
    "        query: MovieIDType,\n",
    "        user_movie_matrix: DataFrame,\n",
    "        users_rated_movie: Callable[[MovieIDType],\n",
    "        List[UserIDType]],\n",
    ") -> MoviePreferencesFilterInterface:\n",
    "\n",
    "    return CompositeFilterWithCondition(\n",
    "        filters=[\n",
    "            MovieGroupIntensityFilter(\n",
    "                group=group,\n",
    "                users_rated_movie=users_rated_movie,\n",
    "            ),\n",
    "            MoveGlobalPopularityFilter(\n",
    "                user_movie_matrix=user_movie_matrix,\n",
    "            ),\n",
    "            MovieQueryClusterFilter(\n",
    "                query=query,\n",
    "            )\n",
    "        ],\n",
    "        condition=lambda filtered_preferences: len(filtered_preferences) > 5\n",
    "    )"
   ],
   "outputs": [],
   "execution_count": 16
  },
  {
   "metadata": {},
   "cell_type": "markdown",
   "source": "`get_preferences_for_group` returns the preferences (the union set of items interacted by the group users) for the group."
  },
  {
   "metadata": {
    "ExecuteTime": {
     "end_time": "2024-12-03T22:37:59.630617Z",
     "start_time": "2024-12-03T22:37:58.964208Z"
    }
   },
   "cell_type": "code",
   "source": [
    "def get_preferences_for_group(\n",
    "        group: Group, user_movie_matrix: DataFrame\n",
    ") -> List[MovieIDType]:\n",
    "    user_movie_matrix_limited = user_movie_matrix[user_movie_matrix['userId'].isin(group.users)]\n",
    "    return list(user_movie_matrix_limited.dropna(axis=1, how='all').drop(columns=['userId']).columns)"
   ],
   "outputs": [],
   "execution_count": 17
  },
  {
   "metadata": {},
   "cell_type": "markdown",
   "source": "`get_users_rated_movie` returns the users who have interacted with a specific movie."
  },
  {
   "metadata": {
    "ExecuteTime": {
     "end_time": "2024-12-03T22:38:00.038599Z",
     "start_time": "2024-12-03T22:37:59.646848Z"
    }
   },
   "cell_type": "code",
   "source": [
    "def get_users_rated_movie(\n",
    "        users: List[UserIDType],\n",
    "        movies: List[MovieIDType],\n",
    "        user_movie_matrix: DataFrame,\n",
    ") -> Callable[[MovieIDType], List[UserIDType]]:\n",
    "    user_movie_matrix_limited = user_movie_matrix[user_movie_matrix['userId'].isin(users)]\n",
    "    user_movie_matrix_limited = user_movie_matrix_limited[[\"userId\"] + movies]\n",
    "\n",
    "    def users_rated_movie(movie):\n",
    "        return list(user_movie_matrix_limited[user_movie_matrix_limited[movie].notna()][\"userId\"])\n",
    "\n",
    "    return users_rated_movie"
   ],
   "outputs": [],
   "execution_count": 18
  },
  {
   "metadata": {},
   "cell_type": "markdown",
   "source": "`get_movies_rated_for_user` returns the movies that a user has interacted with."
  },
  {
   "metadata": {
    "ExecuteTime": {
     "end_time": "2024-12-03T22:38:00.297609Z",
     "start_time": "2024-12-03T22:38:00.053554Z"
    }
   },
   "cell_type": "code",
   "source": [
    "def get_movies_rated_for_user(\n",
    "        users: List[UserIDType],\n",
    "        movies: List[MovieIDType],\n",
    "        user_movie_matrix: DataFrame,\n",
    ") -> Callable[[UserIDType], List[MovieIDType]]:\n",
    "    user_movie_matrix_limited = user_movie_matrix[user_movie_matrix['userId'].isin(users)]\n",
    "    user_movie_matrix_limited = user_movie_matrix_limited[[\"userId\"] + movies]\n",
    "\n",
    "    def movies_rated_for_user(user):\n",
    "        return list(\n",
    "            user_movie_matrix_limited[user_movie_matrix_limited[\"userId\"] == user].drop(\n",
    "                columns=[\"userId\"]\n",
    "            ).dropna(axis=1, how='any').columns\n",
    "        )\n",
    "\n",
    "    return movies_rated_for_user"
   ],
   "outputs": [],
   "execution_count": 19
  },
  {
   "metadata": {},
   "cell_type": "markdown",
   "source": "`find_optimum_explanation` finds the optimum explanation for a group of users."
  },
  {
   "metadata": {
    "ExecuteTime": {
     "end_time": "2024-12-03T22:38:00.482323Z",
     "start_time": "2024-12-03T22:38:00.311139Z"
    }
   },
   "cell_type": "code",
   "source": [
    "def find_optimum_explanation(\n",
    "        group_users: List[UserIDType], user_movie_matrix: DataFrame, query: MovieIDType,\n",
    "        model: GroupRecommendationModel,\n",
    ") -> Explanation:\n",
    "    group = Group(group_users)\n",
    "\n",
    "    preferences: List[MovieIDType] = get_preferences_for_group(group, user_movie_matrix)\n",
    "\n",
    "    filter_: MoviePreferencesFilterInterface = get_preferences_filter(\n",
    "        group, query, user_movie_matrix, get_users_rated_movie(\n",
    "            group.users, preferences, user_movie_matrix\n",
    "        )\n",
    "    )\n",
    "    filtered_preferences = filter_(preferences)\n",
    "\n",
    "    explanations = []\n",
    "    for r in reversed(range(1, len(filtered_preferences) + 1)):\n",
    "        for combination in tqdm(\n",
    "                list(combinations(filtered_preferences, r)),\n",
    "                desc=\"checking combinations when r={}/{}\".format(r, len(filtered_preferences))\n",
    "        ):\n",
    "            to_be_removed = list(combination)\n",
    "            recommendation = model.recommend(to_be_removed)\n",
    "            if query not in recommendation:\n",
    "                explanation = Explanation(list(combination))\n",
    "                explanations.append(explanation)\n",
    "            else:\n",
    "                if r == len(filtered_preferences):\n",
    "                    raise ValueError(\"Even the full set is not a valid explanation\")\n",
    "\n",
    "    sleep(1)\n",
    "    explanation_scores = []\n",
    "    for explanation in tqdm(explanations, desc=\"calculating explanation scores\"):\n",
    "        explanation_scores.append(ExplanationAnalyzer(\n",
    "            group=group,\n",
    "            explanation=explanation,\n",
    "            users_rated_movie=get_users_rated_movie(\n",
    "                group.users, explanation.movies, user_movie_matrix\n",
    "            ),\n",
    "            movies_rated_for_user=get_movies_rated_for_user(\n",
    "                group.users, explanation.movies, user_movie_matrix\n",
    "            ),\n",
    "        ).calculate_explanation_score())\n",
    "\n",
    "    # find explanation with highest score\n",
    "    best_explanation = explanations[explanation_scores.index(max(explanation_scores))]\n",
    "    print(\"Number of preferences before filter: \", len(preferences))\n",
    "    print(\"Number of found explanations: \", len(explanations))\n",
    "    return best_explanation"
   ],
   "outputs": [],
   "execution_count": 20
  },
  {
   "metadata": {},
   "cell_type": "markdown",
   "source": "### Example"
  },
  {
   "metadata": {
    "ExecuteTime": {
     "end_time": "2024-12-03T22:38:00.965372Z",
     "start_time": "2024-12-03T22:38:00.496508Z"
    }
   },
   "cell_type": "code",
   "source": [
    "recommended = model.recommend(preferences_to_exclude=None)\n",
    "print(\"Recommendations for the group: \", recommended)"
   ],
   "outputs": [
    {
     "name": "stdout",
     "output_type": "stream",
     "text": [
      "Recommendations for the group:  [6016, 2985, 48774, 1573, 2617, 2000, 6365, 6934, 6333, 786]\n"
     ]
    }
   ],
   "execution_count": 21
  },
  {
   "metadata": {
    "ExecuteTime": {
     "end_time": "2024-12-03T22:38:01.144392Z",
     "start_time": "2024-12-03T22:38:01.058009Z"
    }
   },
   "cell_type": "code",
   "source": "user_movie_matrix = transform_csv_dataframe_to_user_movies_matrix(pd.read_csv(RATINGS_DATASET))",
   "outputs": [],
   "execution_count": 22
  },
  {
   "metadata": {
    "ExecuteTime": {
     "end_time": "2024-12-03T22:38:33.063340Z",
     "start_time": "2024-12-03T22:38:01.169703Z"
    }
   },
   "cell_type": "code",
   "source": [
    "result = find_optimum_explanation(\n",
    "    sample_group,\n",
    "    user_movie_matrix,\n",
    "    query=786,\n",
    "    model=model,\n",
    ")"
   ],
   "outputs": [
    {
     "name": "stderr",
     "output_type": "stream",
     "text": [
      "Applying filters: 100%|██████████| 3/3 [00:13<00:00,  4.34s/it]\n",
      "checking combinations when r=10/10: 100%|██████████| 1/1 [00:00<00:00, 60.64it/s]\n",
      "checking combinations when r=9/10: 100%|██████████| 10/10 [00:00<00:00, 82.89it/s]\n",
      "checking combinations when r=8/10: 100%|██████████| 45/45 [00:00<00:00, 95.75it/s]\n",
      "checking combinations when r=7/10: 100%|██████████| 120/120 [00:01<00:00, 96.11it/s]\n",
      "checking combinations when r=6/10: 100%|██████████| 210/210 [00:02<00:00, 91.94it/s]\n",
      "checking combinations when r=5/10: 100%|██████████| 252/252 [00:02<00:00, 93.74it/s]\n",
      "checking combinations when r=4/10: 100%|██████████| 210/210 [00:02<00:00, 99.57it/s] \n",
      "checking combinations when r=3/10: 100%|██████████| 120/120 [00:01<00:00, 94.37it/s]\n",
      "checking combinations when r=2/10: 100%|██████████| 45/45 [00:00<00:00, 93.82it/s]\n",
      "checking combinations when r=1/10: 100%|██████████| 10/10 [00:00<00:00, 91.55it/s]\n",
      "calculating explanation scores: 100%|██████████| 64/64 [00:06<00:00,  9.17it/s]"
     ]
    },
    {
     "name": "stdout",
     "output_type": "stream",
     "text": [
      "Number of preferences before filter:  641\n",
      "Number of found explanations:  64\n"
     ]
    },
    {
     "name": "stderr",
     "output_type": "stream",
     "text": [
      "\n"
     ]
    }
   ],
   "execution_count": 23
  },
  {
   "metadata": {
    "ExecuteTime": {
     "end_time": "2024-12-03T22:38:33.151838Z",
     "start_time": "2024-12-03T22:38:33.147158Z"
    }
   },
   "cell_type": "code",
   "source": "print(\"Optimum Explanation: \", result)",
   "outputs": [
    {
     "name": "stdout",
     "output_type": "stream",
     "text": [
      "Optimum Explanation:  Explanation(movies=[172, 1488, 1515, 1626])\n"
     ]
    }
   ],
   "execution_count": 24
  },
  {
   "metadata": {},
   "cell_type": "code",
   "outputs": [],
   "execution_count": null,
   "source": ""
  }
 ],
 "metadata": {
  "colab": {
   "collapsed_sections": [
    "9i9ZaydaQjcj",
    "wn_6xpQpPJA3"
   ],
   "provenance": []
  },
  "kernelspec": {
   "display_name": "Python 3 (ipykernel)",
   "language": "python",
   "name": "python3"
  },
  "language_info": {
   "codemirror_mode": {
    "name": "ipython",
    "version": 3
   },
   "file_extension": ".py",
   "mimetype": "text/x-python",
   "name": "python",
   "nbconvert_exporter": "python",
   "pygments_lexer": "ipython3",
   "version": "3.9.20"
  }
 },
 "nbformat": 4,
 "nbformat_minor": 4
}
