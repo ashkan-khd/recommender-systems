{
 "nbformat": 4,
 "nbformat_minor": 0,
 "metadata": {
  "colab": {
   "provenance": [],
   "collapsed_sections": [
    "9i9ZaydaQjcj",
    "wn_6xpQpPJA3"
   ]
  },
  "kernelspec": {
   "name": "python3",
   "display_name": "Python 3 (ipykernel)",
   "language": "python"
  },
  "language_info": {
   "name": "python"
  }
 },
 "cells": [
  {
   "cell_type": "markdown",
   "source": [
    "# Collaborative Filtering and Group Recommendations in MovieLens 100K"
   ],
   "metadata": {
    "id": "zwPruqU0MJFR"
   }
  },
  {
   "cell_type": "markdown",
   "source": [
    "\n",
    "**Authors**: Ashkan Khademian, Ujunwa Edum\\\n",
    "**Project Part**: Part I\\\n",
    "**Course**: DATA.ML.360-2024-2025-1 Recommender Systems"
   ],
   "metadata": {
    "id": "TkQuQR7KMN8V"
   }
  },
  {
   "cell_type": "markdown",
   "source": [
    "# Foundations"
   ],
   "metadata": {
    "id": "Fn8JDrAROlvp"
   }
  },
  {
   "cell_type": "markdown",
   "source": [
    "## Introduction"
   ],
   "metadata": {
    "id": "9i9ZaydaQjcj"
   }
  },
  {
   "cell_type": "markdown",
   "source": [
    "Lorem ipsum"
   ],
   "metadata": {
    "id": "VZfVUxYiOo2K"
   }
  },
  {
   "cell_type": "markdown",
   "source": [
    "## Install Requirements"
   ],
   "metadata": {
    "id": "wn_6xpQpPJA3"
   }
  },
  {
   "cell_type": "markdown",
   "source": [
    "Use the comment template for installing your packages that are not already present in the google colab environment."
   ],
   "metadata": {
    "id": "fgzAenmNQIen"
   }
  },
  {
   "cell_type": "code",
   "source": [
    "# !pip install <package-name>"
   ],
   "metadata": {
    "id": "sm4JvJzXPIgH",
    "ExecuteTime": {
     "end_time": "2024-11-09T16:50:57.683254Z",
     "start_time": "2024-11-09T16:50:57.680406Z"
    }
   },
   "outputs": [],
   "execution_count": 3
  },
  {
   "cell_type": "markdown",
   "source": [
    "## Import Libararies"
   ],
   "metadata": {
    "id": "ATPOXwHmQQza"
   }
  },
  {
   "cell_type": "markdown",
   "source": [
    "### Main Libraries"
   ],
   "metadata": {
    "id": "QTxSKRH-WJYj"
   }
  },
  {
   "cell_type": "code",
   "source": [
    "import typing\n",
    "from time import sleep\n",
    "\n",
    "from tqdm import tqdm\n",
    "import numpy as np\n",
    "import pandas as pd\n",
    "import matplotlib.pyplot as plt\n",
    "import seaborn as sns\n",
    "from itertools import combinations"
   ],
   "metadata": {
    "id": "4O0DPlYWQZgY",
    "ExecuteTime": {
     "end_time": "2024-11-09T16:50:57.838789Z",
     "start_time": "2024-11-09T16:50:57.725911Z"
    }
   },
   "outputs": [],
   "execution_count": 4
  },
  {
   "cell_type": "markdown",
   "source": [
    "### Typing"
   ],
   "metadata": {
    "id": "zHLbWl9EWL--"
   }
  },
  {
   "cell_type": "code",
   "source": [
    "from typing import *\n",
    "from pandas.core.frame import DataFrame, Series"
   ],
   "metadata": {
    "id": "XIDzKAbnWQPr",
    "ExecuteTime": {
     "end_time": "2024-11-09T16:50:57.983286Z",
     "start_time": "2024-11-09T16:50:57.851913Z"
    }
   },
   "outputs": [],
   "execution_count": 5
  },
  {
   "cell_type": "markdown",
   "source": "## Define Constants",
   "metadata": {
    "id": "MwUERVVoSvSt"
   }
  },
  {
   "cell_type": "code",
   "source": [
    "RATING_DATASET = \"data/ml-latest-small/ratings.csv\""
   ],
   "metadata": {
    "id": "WD4SLoO5SzW9",
    "ExecuteTime": {
     "end_time": "2024-11-09T16:50:58.130825Z",
     "start_time": "2024-11-09T16:50:57.995199Z"
    }
   },
   "outputs": [],
   "execution_count": 6
  },
  {
   "cell_type": "markdown",
   "source": [
    "# A. Visualize Dataset"
   ],
   "metadata": {
    "id": "eovdcmXNOeeG"
   }
  },
  {
   "cell_type": "code",
   "source": [
    "def visualize_rating_distribution(ratings: DataFrame) -> None:\n",
    "  plt.figure(figsize=(8, 4))\n",
    "  sns.histplot(ratings['rating'], bins=9, kde=True)\n",
    "  plt.title('Distribution of Ratings')\n",
    "  plt.xlabel('Rating')\n",
    "  plt.ylabel('Count')\n",
    "  plt.show()"
   ],
   "metadata": {
    "id": "bWkRJiHMWA3k",
    "ExecuteTime": {
     "end_time": "2024-11-09T16:50:58.278934Z",
     "start_time": "2024-11-09T16:50:58.141910Z"
    }
   },
   "outputs": [],
   "execution_count": 7
  },
  {
   "cell_type": "code",
   "source": [
    "def visualize_user_activity(ratings: DataFrame) -> None:\n",
    "  user_activity = ratings.groupby('userId').size()\n",
    "  plt.figure(figsize=(8, 4))\n",
    "  sns.histplot(user_activity, bins=50, kde=True)\n",
    "  plt.title('Distribution of Number of Ratings per User')\n",
    "  plt.xlabel('Number of Ratings')\n",
    "  plt.ylabel('Count of Users')\n",
    "  plt.show()"
   ],
   "metadata": {
    "id": "QKO9BAg0Wk6C",
    "ExecuteTime": {
     "end_time": "2024-11-09T16:50:58.450605Z",
     "start_time": "2024-11-09T16:50:58.289353Z"
    }
   },
   "outputs": [],
   "execution_count": 8
  },
  {
   "cell_type": "code",
   "source": [
    "def visualize_movie_popularity(ratings: DataFrame) -> None:\n",
    "  movie_popularity = ratings.groupby('movieId').size()\n",
    "  plt.figure(figsize=(8, 4))\n",
    "  sns.histplot(movie_popularity, bins=50, kde=True)\n",
    "  plt.title('Distribution of Number of Ratings per Movie')\n",
    "  plt.xlabel('Number of Ratings')\n",
    "  plt.ylabel('Count of Movies')\n",
    "  plt.show()"
   ],
   "metadata": {
    "id": "SnCBQ_3_Wm82",
    "ExecuteTime": {
     "end_time": "2024-11-09T16:50:58.838354Z",
     "start_time": "2024-11-09T16:50:58.461650Z"
    }
   },
   "outputs": [],
   "execution_count": 9
  },
  {
   "cell_type": "code",
   "source": [
    "def visualize_user_movie_matrix_heatmap(ratings: DataFrame) -> None:\n",
    "  sample = ratings[(ratings['userId'].isin(range(1, 51))) & (ratings['movieId'].isin(range(1, 101)))]\n",
    "  pivot_table = sample.pivot(index='userId', columns='movieId', values='rating')\n",
    "  plt.figure(figsize=(8, 6))\n",
    "  sns.heatmap(pivot_table, cmap='coolwarm', cbar=True, xticklabels=False, yticklabels=False,\n",
    "              linewidths=0.1, linecolor='grey', mask=pivot_table.isnull(), square=True)\n",
    "  plt.title('Heatmap of User-Movie Rating Matrix')\n",
    "  plt.xlabel('MovieId')\n",
    "  plt.ylabel('UserId')\n",
    "  plt.show()"
   ],
   "metadata": {
    "id": "lWel0-6Jg2jS",
    "ExecuteTime": {
     "end_time": "2024-11-09T16:50:58.986356Z",
     "start_time": "2024-11-09T16:50:58.858186Z"
    }
   },
   "outputs": [],
   "execution_count": 10
  },
  {
   "cell_type": "code",
   "source": [
    "raw_df = pd.read_csv(RATING_DATASET)\n",
    "raw_df"
   ],
   "metadata": {
    "colab": {
     "base_uri": "https://localhost:8080/",
     "height": 424
    },
    "id": "LdC_Zv4bTWuM",
    "outputId": "bb51d804-3f03-4935-e20d-16e657e3ba29",
    "ExecuteTime": {
     "end_time": "2024-11-09T16:50:59.208049Z",
     "start_time": "2024-11-09T16:50:59.011180Z"
    }
   },
   "outputs": [
    {
     "data": {
      "text/plain": [
       "        userId  movieId  rating   timestamp\n",
       "0            1        1     4.0   964982703\n",
       "1            1        3     4.0   964981247\n",
       "2            1        6     4.0   964982224\n",
       "3            1       47     5.0   964983815\n",
       "4            1       50     5.0   964982931\n",
       "...        ...      ...     ...         ...\n",
       "100831     610   166534     4.0  1493848402\n",
       "100832     610   168248     5.0  1493850091\n",
       "100833     610   168250     5.0  1494273047\n",
       "100834     610   168252     5.0  1493846352\n",
       "100835     610   170875     3.0  1493846415\n",
       "\n",
       "[100836 rows x 4 columns]"
      ],
      "text/html": [
       "<div>\n",
       "<style scoped>\n",
       "    .dataframe tbody tr th:only-of-type {\n",
       "        vertical-align: middle;\n",
       "    }\n",
       "\n",
       "    .dataframe tbody tr th {\n",
       "        vertical-align: top;\n",
       "    }\n",
       "\n",
       "    .dataframe thead th {\n",
       "        text-align: right;\n",
       "    }\n",
       "</style>\n",
       "<table border=\"1\" class=\"dataframe\">\n",
       "  <thead>\n",
       "    <tr style=\"text-align: right;\">\n",
       "      <th></th>\n",
       "      <th>userId</th>\n",
       "      <th>movieId</th>\n",
       "      <th>rating</th>\n",
       "      <th>timestamp</th>\n",
       "    </tr>\n",
       "  </thead>\n",
       "  <tbody>\n",
       "    <tr>\n",
       "      <th>0</th>\n",
       "      <td>1</td>\n",
       "      <td>1</td>\n",
       "      <td>4.0</td>\n",
       "      <td>964982703</td>\n",
       "    </tr>\n",
       "    <tr>\n",
       "      <th>1</th>\n",
       "      <td>1</td>\n",
       "      <td>3</td>\n",
       "      <td>4.0</td>\n",
       "      <td>964981247</td>\n",
       "    </tr>\n",
       "    <tr>\n",
       "      <th>2</th>\n",
       "      <td>1</td>\n",
       "      <td>6</td>\n",
       "      <td>4.0</td>\n",
       "      <td>964982224</td>\n",
       "    </tr>\n",
       "    <tr>\n",
       "      <th>3</th>\n",
       "      <td>1</td>\n",
       "      <td>47</td>\n",
       "      <td>5.0</td>\n",
       "      <td>964983815</td>\n",
       "    </tr>\n",
       "    <tr>\n",
       "      <th>4</th>\n",
       "      <td>1</td>\n",
       "      <td>50</td>\n",
       "      <td>5.0</td>\n",
       "      <td>964982931</td>\n",
       "    </tr>\n",
       "    <tr>\n",
       "      <th>...</th>\n",
       "      <td>...</td>\n",
       "      <td>...</td>\n",
       "      <td>...</td>\n",
       "      <td>...</td>\n",
       "    </tr>\n",
       "    <tr>\n",
       "      <th>100831</th>\n",
       "      <td>610</td>\n",
       "      <td>166534</td>\n",
       "      <td>4.0</td>\n",
       "      <td>1493848402</td>\n",
       "    </tr>\n",
       "    <tr>\n",
       "      <th>100832</th>\n",
       "      <td>610</td>\n",
       "      <td>168248</td>\n",
       "      <td>5.0</td>\n",
       "      <td>1493850091</td>\n",
       "    </tr>\n",
       "    <tr>\n",
       "      <th>100833</th>\n",
       "      <td>610</td>\n",
       "      <td>168250</td>\n",
       "      <td>5.0</td>\n",
       "      <td>1494273047</td>\n",
       "    </tr>\n",
       "    <tr>\n",
       "      <th>100834</th>\n",
       "      <td>610</td>\n",
       "      <td>168252</td>\n",
       "      <td>5.0</td>\n",
       "      <td>1493846352</td>\n",
       "    </tr>\n",
       "    <tr>\n",
       "      <th>100835</th>\n",
       "      <td>610</td>\n",
       "      <td>170875</td>\n",
       "      <td>3.0</td>\n",
       "      <td>1493846415</td>\n",
       "    </tr>\n",
       "  </tbody>\n",
       "</table>\n",
       "<p>100836 rows × 4 columns</p>\n",
       "</div>"
      ]
     },
     "execution_count": 11,
     "metadata": {},
     "output_type": "execute_result"
    }
   ],
   "execution_count": 11
  },
  {
   "cell_type": "code",
   "source": "visualize_rating_distribution(raw_df)",
   "metadata": {
    "colab": {
     "base_uri": "https://localhost:8080/",
     "height": 410
    },
    "id": "Z8qP6swdebGA",
    "outputId": "c5c23724-99b8-4cc6-9c30-17e1452bc90c",
    "ExecuteTime": {
     "end_time": "2024-11-09T16:51:00.062802Z",
     "start_time": "2024-11-09T16:50:59.324129Z"
    }
   },
   "outputs": [
    {
     "data": {
      "text/plain": [
       "<Figure size 800x400 with 1 Axes>"
      ],
      "image/png": "[encoded data removed]"
     },
     "metadata": {},
     "output_type": "display_data"
    }
   ],
   "execution_count": 12
  },
  {
   "cell_type": "code",
   "source": "visualize_user_activity(raw_df)",
   "metadata": {
    "colab": {
     "base_uri": "https://localhost:8080/",
     "height": 410
    },
    "id": "ogxUSFOSez-J",
    "outputId": "00b462b2-b3f7-45b2-cbb7-ec5f11ac55fa",
    "ExecuteTime": {
     "end_time": "2024-11-09T16:51:00.443385Z",
     "start_time": "2024-11-09T16:51:00.121103Z"
    }
   },
   "outputs": [
    {
     "data": {
      "text/plain": [
       "<Figure size 800x400 with 1 Axes>"
      ],
      "image/png": "[encoded data removed]"
     },
     "metadata": {},
     "output_type": "display_data"
    }
   ],
   "execution_count": 13
  },
  {
   "cell_type": "code",
   "source": "visualize_movie_popularity(raw_df)",
   "metadata": {
    "colab": {
     "base_uri": "https://localhost:8080/",
     "height": 410
    },
    "id": "cQlLb9RngJ-1",
    "outputId": "876b4bac-5831-4fa7-8b48-ca0748aa479b",
    "ExecuteTime": {
     "end_time": "2024-11-09T16:51:00.793030Z",
     "start_time": "2024-11-09T16:51:00.504792Z"
    }
   },
   "outputs": [
    {
     "data": {
      "text/plain": [
       "<Figure size 800x400 with 1 Axes>"
      ],
      "image/png": "[encoded data removed]"
     },
     "metadata": {},
     "output_type": "display_data"
    }
   ],
   "execution_count": 14
  },
  {
   "cell_type": "code",
   "source": "visualize_user_movie_matrix_heatmap(raw_df)",
   "metadata": {
    "colab": {
     "base_uri": "https://localhost:8080/",
     "height": 666
    },
    "id": "z8_HRktTg_1w",
    "outputId": "8e5ff31b-1ebe-4cd4-ae6c-50407e58e27b",
    "ExecuteTime": {
     "end_time": "2024-11-09T16:51:00.994525Z",
     "start_time": "2024-11-09T16:51:00.837544Z"
    }
   },
   "outputs": [
    {
     "data": {
      "text/plain": [
       "<Figure size 800x600 with 2 Axes>"
      ],
      "image/png": "[encoded data removed]"
     },
     "metadata": {},
     "output_type": "display_data"
    }
   ],
   "execution_count": 15
  },
  {
   "cell_type": "markdown",
   "source": [
    "# B & C. User-Based Collaborative Filtering"
   ],
   "metadata": {
    "id": "7JDWIxyCWo29"
   }
  },
  {
   "metadata": {},
   "cell_type": "markdown",
   "source": "## B. Collaborative Filtering using Pearson Similarity"
  },
  {
   "cell_type": "code",
   "source": [
    "def pearson_similarity(user1_ratings: Series, user2_ratings: Series, **kwargs) -> float:\n",
    "    common_ratings = user1_ratings.dropna().index.intersection(user2_ratings.dropna().index)\n",
    "    if len(common_ratings) == 0:\n",
    "        return np.nan\n",
    "    user1_common = user1_ratings[common_ratings]\n",
    "    user2_common = user2_ratings[common_ratings]\n",
    "    mean_user1 = user1_common.mean()\n",
    "    mean_user2 = user2_common.mean()\n",
    "    numerator = ((user1_common - mean_user1) * (user2_common - mean_user2)).sum()\n",
    "    denominator = np.sqrt(((user1_common - mean_user1) ** 2).sum()) * np.sqrt(((user2_common - mean_user2) ** 2).sum())\n",
    "    with np.errstate(invalid='ignore'):\n",
    "        return numerator / denominator"
   ],
   "metadata": {
    "id": "L895ydgQGAzb",
    "ExecuteTime": {
     "end_time": "2024-11-09T16:51:01.035051Z",
     "start_time": "2024-11-09T16:51:01.027069Z"
    }
   },
   "outputs": [],
   "execution_count": 16
  },
  {
   "metadata": {},
   "cell_type": "markdown",
   "source": [
    "### Transform CSV DataFrame to User-Movies Matrix\n",
    "The `transform_csv_dataframe_to_user_movies_matrix` function transforms the DataFrame resulted from the dataset CSV into a user-movies matrix where the rows represent users, the columns represent movies, and the values represent the ratings given by users to movies."
   ]
  },
  {
   "cell_type": "code",
   "source": [
    "def transform_csv_dataframe_to_user_movies_matrix(csv_df: DataFrame) -> DataFrame:\n",
    "  user_movie_matrix = csv_df.pivot(index='userId', columns='movieId', values='rating')\n",
    "  user_movie_matrix.reset_index(inplace=True)\n",
    "  user_movie_matrix.columns.name = None\n",
    "  return user_movie_matrix\n"
   ],
   "metadata": {
    "id": "FIGTM-LIHNsh",
    "ExecuteTime": {
     "end_time": "2024-11-09T16:51:01.182166Z",
     "start_time": "2024-11-09T16:51:01.078354Z"
    }
   },
   "outputs": [],
   "execution_count": 17
  },
  {
   "metadata": {},
   "cell_type": "markdown",
   "source": [
    "### Prepare User-Movie Matrix for Collaborative Filtering\n",
    "The `prepare_user_movie_matrix_for_cf_matrix` function prepares the user-movie matrix for collaborative filtering by filtering the matrix to include only the relevant users and movies. It retrieves the movies rated by the specific user and filters the user-movie matrix to include only the relevant users and movies."
   ]
  },
  {
   "cell_type": "code",
   "source": [
    "def prepare_user_movie_matrix_for_cf_matrix(\n",
    "    user_movie_matrix: DataFrame,\n",
    "    movie_id: int,\n",
    "    user_id: int,\n",
    "  ) -> DataFrame:\n",
    "    user_ratings = user_movie_matrix[user_movie_matrix['userId'] == user_id].dropna(axis=1, how='all')\n",
    "    \n",
    "    # Retrieve the movies rated by the specific user\n",
    "    rated_movies = user_ratings.columns[1:]\n",
    "    if movie_id in rated_movies:\n",
    "        raise ValueError(f\"The user {user_id} has already rated the movie {movie_id}\")\n",
    "    \n",
    "    # Filter the user-movie matrix to include only the relevant users and movies\n",
    "    relevant_users = user_movie_matrix[user_movie_matrix[rated_movies].notna().any(axis=1) & user_movie_matrix[movie_id].notna()]\n",
    "    \n",
    "    # Include the movie we want to predict if it's not already rated by the user\n",
    "    rated_movies = rated_movies.append(pd.Index([movie_id]))\n",
    "    \n",
    "    # Return the filtered DataFrame\n",
    "    relevant_users_rows = relevant_users[['userId'] + list(rated_movies)]\n",
    "    user_row = user_movie_matrix[user_movie_matrix[\"userId\"]==user_id][['userId'] + list(rated_movies)]\n",
    "    return pd.concat([user_row, relevant_users_rows]).reset_index(drop=True)"
   ],
   "metadata": {
    "id": "_STcRi3uH8Iy",
    "ExecuteTime": {
     "end_time": "2024-11-09T16:51:01.330621Z",
     "start_time": "2024-11-09T16:51:01.194336Z"
    }
   },
   "outputs": [],
   "execution_count": 18
  },
  {
   "metadata": {},
   "cell_type": "markdown",
   "source": [
    "### Add Similarity Column to CF Matrix\n",
    "The `add_similarity_column_to_cf_matrix` function adds a new column to the collaborative filtering (CF) user-movie matrix that represents the similarity between the target user and each user in the matrix. It calculates the similarity using the provided `similarity_measure` function."
   ]
  },
  {
   "cell_type": "code",
   "source": [
    "def add_similarity_column_to_cf_matrix(\n",
    "    cf_matrix: DataFrame, movie_id: int, user_id: int,\n",
    "    similarity_measure: typing.Callable[[Series, Series, Any], np.float64],\n",
    "  ) -> DataFrame:\n",
    "    \n",
    "    target_user_ratings = cf_matrix[cf_matrix['userId'] == user_id].drop('userId', axis=1).drop(movie_id, axis=1).iloc[0]\n",
    "    average_non_nan = cf_matrix[cf_matrix['userId'] != user_id].drop(['userId', movie_id], axis=1).notna().sum(axis=1).mean()\n",
    "    similarities = []\n",
    "    for other_user_id in cf_matrix['userId']:\n",
    "        if other_user_id == user_id:\n",
    "            similarities.append(1.0)  # Similarity with oneself is 1\n",
    "        else:\n",
    "            other_user_ratings = cf_matrix[cf_matrix['userId'] == other_user_id].drop('userId', axis=1).drop(movie_id, axis=1).iloc[0]\n",
    "            similarity = similarity_measure(target_user_ratings, other_user_ratings, average_non_nan=average_non_nan)\n",
    "            similarities.append(similarity)\n",
    "    df_copy = cf_matrix.copy()\n",
    "    df_copy['similarity'] = similarities\n",
    "    return df_copy"
   ],
   "metadata": {
    "id": "i8BHcFsIKMyf",
    "ExecuteTime": {
     "end_time": "2024-11-09T16:51:01.503326Z",
     "start_time": "2024-11-09T16:51:01.345998Z"
    }
   },
   "outputs": [],
   "execution_count": 19
  },
  {
   "cell_type": "code",
   "source": [
    "def limit_neighborhood(\n",
    "    cf_matrix_with_similarity: DataFrame,\n",
    "    movie_id: int,\n",
    "    user_id: int,\n",
    "    threshold: Optional[float] = None,\n",
    ") -> DataFrame:\n",
    "    neighbors = cf_matrix_with_similarity.copy()\n",
    "    \n",
    "    if threshold is not None:\n",
    "        neighbors = neighbors[neighbors['similarity'] >= threshold]\n",
    "\n",
    "    if len(neighbors) < 3:\n",
    "        raise ValueError(\"Number of neighbors is less than 1\")\n",
    "\n",
    "    return neighbors"
   ],
   "metadata": {
    "id": "OrOsDO-lLGkg",
    "ExecuteTime": {
     "end_time": "2024-11-09T16:51:01.711187Z",
     "start_time": "2024-11-09T16:51:01.517404Z"
    }
   },
   "outputs": [],
   "execution_count": 20
  },
  {
   "metadata": {},
   "cell_type": "markdown",
   "source": "## C. Predicting Scores using the Function Presented in Class"
  },
  {
   "metadata": {},
   "cell_type": "markdown",
   "source": [
    "### Predict Score\n",
    "The `predict_score` function calculates the predicted score for a movie by a user based on the collaborative filtering matrix with similarities. It retrieves the neighbors' ratings for the specified movie, calculates the average rating of the target user, and the average rating of each neighbor. It then calculates the weighted sum of the neighbors' ratings and the sum of the similarities to predict the score."
   ]
  },
  {
   "cell_type": "code",
   "source": [
    "def predict_score(cf_matrix_with_similarity: DataFrame, movie_id: int, user_id: int) -> float:\n",
    "    # Retrieve the neighbors' ratings for the specified movie\n",
    "    neighbors_ratings = cf_matrix_with_similarity[\n",
    "        cf_matrix_with_similarity['userId'] != user_id\n",
    "    ][['userId', movie_id, 'similarity']].dropna()\n",
    "\n",
    "    # Calculate the average rating of the target user\n",
    "    target_user_ratings = cf_matrix_with_similarity[\n",
    "        cf_matrix_with_similarity['userId'] == user_id\n",
    "    ].drop(['userId', 'similarity'], axis=1).iloc[0].dropna()\n",
    "    target_user_avg_rating = target_user_ratings.mean()\n",
    "\n",
    "    # Calculate the average rating of each neighbor\n",
    "    neighbors_avg_ratings = cf_matrix_with_similarity[\n",
    "        cf_matrix_with_similarity['userId'].isin(neighbors_ratings['userId'])\n",
    "    ].drop(['userId', 'similarity'], axis=1).mean(axis=1)\n",
    "\n",
    "    # Calculate the weighted sum of the neighbors' ratings\n",
    "    weighted_sum = sum(\n",
    "        (neighbors_ratings.iloc[i][movie_id] - neighbors_avg_ratings.iloc[i]) * neighbors_ratings.iloc[i]['similarity']\n",
    "        for i in range(len(neighbors_ratings))\n",
    "    )\n",
    "\n",
    "    # Calculate the sum of the similarities\n",
    "    sum_of_similarities = neighbors_ratings['similarity'].sum()\n",
    "\n",
    "    # Calculate the predicted score\n",
    "    predicted_score = target_user_avg_rating + (weighted_sum / sum_of_similarities)\n",
    "\n",
    "    return predicted_score"
   ],
   "metadata": {
    "id": "UxWaqaebLgi9",
    "ExecuteTime": {
     "end_time": "2024-11-09T16:51:01.859787Z",
     "start_time": "2024-11-09T16:51:01.723401Z"
    }
   },
   "outputs": [],
   "execution_count": 21
  },
  {
   "metadata": {},
   "cell_type": "markdown",
   "source": [
    "### Calculate Prediction using Pearson Similarity\n",
    "The `calculate_prediction_using_pearson_similarity` function calculates the predicted score for a user-movie pair using the Pearson similarity. It transforms the raw DataFrame into a user-movie matrix, prepares the matrix for collaborative filtering, adds the similarity column to the matrix, limits the neighborhood based on a threshold, and predicts the score using the collaborative filtering matrix."
   ]
  },
  {
   "cell_type": "code",
   "source": [
    "def calculate_prediction_using_pearson_similarity(\n",
    "    user_id: int, \n",
    "    movie_id: int\n",
    ") -> float:\n",
    "    THRESHOLD = None\n",
    "    transformed_df = transform_csv_dataframe_to_user_movies_matrix(raw_df)\n",
    "    limited_df = prepare_user_movie_matrix_for_cf_matrix(\n",
    "        transformed_df, movie_id, user_id\n",
    "    )\n",
    "    limited_df_with_similarity = add_similarity_column_to_cf_matrix(\n",
    "        limited_df, movie_id, user_id, pearson_similarity\n",
    "    )\n",
    "    neighbors_df = limit_neighborhood(\n",
    "        limited_df_with_similarity,\n",
    "        movie_id,\n",
    "        user_id,\n",
    "        THRESHOLD,\n",
    "    )\n",
    "    predicted_score = predict_score(\n",
    "        neighbors_df,\n",
    "        movie_id,\n",
    "        user_id,\n",
    "    )\n",
    "    return predicted_score\n"
   ],
   "metadata": {
    "id": "NIfjs8xBMKKy",
    "ExecuteTime": {
     "end_time": "2024-11-09T16:51:02.031021Z",
     "start_time": "2024-11-09T16:51:01.873356Z"
    }
   },
   "outputs": [],
   "execution_count": 22
  },
  {
   "metadata": {},
   "cell_type": "markdown",
   "source": "## Examples"
  },
  {
   "metadata": {
    "ExecuteTime": {
     "end_time": "2024-11-09T16:51:02.203324Z",
     "start_time": "2024-11-09T16:51:02.046382Z"
    }
   },
   "cell_type": "code",
   "source": [
    "def section_b_and_c_solution():\n",
    "    print(\"Examples for Sections B and C\")\n",
    "    user_movie_pair = [(314, 2), (264, 1047)]\n",
    "    for i, (user_id, movie_id) in enumerate(user_movie_pair):\n",
    "        predicted_score = calculate_prediction_using_pearson_similarity(user_id, movie_id)\n",
    "        print(f\"+--Example {i+1}--+\")\n",
    "        print(f\"predicted score for user with id={user_id} and movie with id={movie_id} is {predicted_score}\")\n",
    "        print()"
   ],
   "outputs": [],
   "execution_count": 23
  },
  {
   "metadata": {
    "ExecuteTime": {
     "end_time": "2024-11-09T16:51:02.838588Z",
     "start_time": "2024-11-09T16:51:02.224398Z"
    }
   },
   "cell_type": "code",
   "source": "section_b_and_c_solution()",
   "outputs": [
    {
     "name": "stdout",
     "output_type": "stream",
     "text": [
      "Examples for Sections B and C\n",
      "+--Example 1--+\n",
      "predicted score for user with id=314 and movie with id=2 is 2.8799700126534606\n",
      "\n",
      "+--Example 2--+\n",
      "predicted score for user with id=264 and movie with id=1047 is 5.228082679281905\n",
      "\n"
     ]
    }
   ],
   "execution_count": 24
  },
  {
   "cell_type": "markdown",
   "source": "# D. A New Similarity",
   "metadata": {
    "id": "_AbcbQFOOHBb"
   }
  },
  {
   "metadata": {},
   "cell_type": "markdown",
   "source": [
    "### Pearson Similarity with Common Rating Count\n",
    "The `pearson_similarity_with_common_rating_count` function calculates the Pearson similarity between two users, taking into account the number of common ratings between the users. It first calculates the Pearson similarity using the `pearson_similarity` function and then scales the similarity by the number of common ratings between the users."
   ]
  },
  {
   "metadata": {
    "ExecuteTime": {
     "end_time": "2024-11-09T16:51:02.855593Z",
     "start_time": "2024-11-09T16:51:02.851575Z"
    }
   },
   "cell_type": "code",
   "source": [
    "def pearson_similarity_with_common_rating_count(user1_ratings: Series, user2_ratings: Series, average_non_nan, **kwargs) -> float:\n",
    "    common_ratings = user1_ratings.dropna().index.intersection(user2_ratings.dropna().index)\n",
    "    n = len(common_ratings)\n",
    "    r = pearson_similarity(user1_ratings, user2_ratings)\n",
    "    with np.errstate(invalid='ignore'):\n",
    "        return r * (n / (n + average_non_nan))"
   ],
   "outputs": [],
   "execution_count": 25
  },
  {
   "metadata": {},
   "cell_type": "markdown",
   "source": [
    "### Calculate Prediction using Pearson Similarity with Common Rating Count\n",
    "The `calculate_prediction_using_pearson_with_common_rating_similarity` function calculates the predicted score for a user-movie pair using the Pearson similarity with common rating count. It transforms the raw DataFrame into a user-movie matrix, prepares the matrix for collaborative filtering, adds the similarity column to the matrix, limits the neighborhood based on a threshold, and predicts the score using the collaborative filtering matrix."
   ]
  },
  {
   "metadata": {
    "ExecuteTime": {
     "end_time": "2024-11-09T16:51:03.019314Z",
     "start_time": "2024-11-09T16:51:02.893777Z"
    }
   },
   "cell_type": "code",
   "source": [
    "def calculate_prediction_using_pearson_with_common_rating_similarity(\n",
    "    user_id: int, \n",
    "    movie_id: int\n",
    ") -> float:\n",
    "    THRESHOLD = None\n",
    "    transformed_df = transform_csv_dataframe_to_user_movies_matrix(raw_df)\n",
    "    limited_df = prepare_user_movie_matrix_for_cf_matrix(\n",
    "        transformed_df, movie_id, user_id\n",
    "    )\n",
    "    limited_df_with_similarity = add_similarity_column_to_cf_matrix(\n",
    "        limited_df, movie_id, user_id, pearson_similarity_with_common_rating_count\n",
    "    )\n",
    "    neighbors_df = limit_neighborhood(\n",
    "        limited_df_with_similarity,\n",
    "        movie_id,\n",
    "        user_id,\n",
    "        THRESHOLD,\n",
    "    )\n",
    "    predicted_score = predict_score(\n",
    "        neighbors_df,\n",
    "        movie_id,\n",
    "        user_id,\n",
    "    )\n",
    "    print(f\"predicted score for user with id={user_id} and movie with id={movie_id} is {predicted_score}\")\n",
    "    return predicted_score\n"
   ],
   "outputs": [],
   "execution_count": 26
  },
  {
   "metadata": {},
   "cell_type": "markdown",
   "source": "## Examples"
  },
  {
   "metadata": {
    "ExecuteTime": {
     "end_time": "2024-11-09T16:51:03.191741Z",
     "start_time": "2024-11-09T16:51:03.031143Z"
    }
   },
   "cell_type": "code",
   "source": [
    "def section_d_solution():\n",
    "    print(\"Examples for Sections D\")\n",
    "    user_movie_pair = [(314, 2), (264, 1047)]\n",
    "    for i, (user_id, movie_id) in enumerate(user_movie_pair):\n",
    "        predicted_score = calculate_prediction_using_pearson_with_common_rating_similarity(user_id, movie_id)\n",
    "        print(f\"+--Example {i+1}--+\")\n",
    "        print(f\"predicted score for user with id={user_id} and movie with id={movie_id} is {predicted_score}\")\n",
    "        print()"
   ],
   "outputs": [],
   "execution_count": 27
  },
  {
   "metadata": {
    "ExecuteTime": {
     "end_time": "2024-11-09T16:51:03.822573Z",
     "start_time": "2024-11-09T16:51:03.213285Z"
    }
   },
   "cell_type": "code",
   "source": "section_d_solution()",
   "outputs": [
    {
     "name": "stdout",
     "output_type": "stream",
     "text": [
      "Examples for Sections D\n",
      "predicted score for user with id=314 and movie with id=2 is 2.8869564010553685\n",
      "+--Example 1--+\n",
      "predicted score for user with id=314 and movie with id=2 is 2.8869564010553685\n",
      "\n",
      "predicted score for user with id=264 and movie with id=1047 is 4.532361269167791\n",
      "+--Example 2--+\n",
      "predicted score for user with id=264 and movie with id=1047 is 4.532361269167791\n",
      "\n"
     ]
    }
   ],
   "execution_count": 28
  },
  {
   "cell_type": "markdown",
   "source": "# E. Group Aggregation",
   "metadata": {
    "id": "4xEERJ8dOqC2"
   }
  },
  {
   "metadata": {},
   "cell_type": "markdown",
   "source": "## Utility Functions"
  },
  {
   "metadata": {},
   "cell_type": "markdown",
   "source": [
    "### Forming Random Groups\n",
    "The `get_k_users_with_max_common_movies_sampled` function randomly samples a subset of users and calculates the number of common movies watched between each pair of users. It then selects the top `k` users with the maximum number of common movies watched. This function is used to form random groups of users for group recommendation."
   ]
  },
  {
   "metadata": {
    "ExecuteTime": {
     "end_time": "2024-11-09T16:51:03.843089Z",
     "start_time": "2024-11-09T16:51:03.836045Z"
    }
   },
   "cell_type": "code",
   "source": [
    "def get_k_users_with_max_common_movies_sampled(user_movie_matrix: pd.DataFrame, k: int, sample_size: int = 100):\n",
    "    # Step 1: Randomly sample 100 users\n",
    "    sampled_users = user_movie_matrix.sample(n=sample_size, random_state=1).index  # Set random_state for reproducibility\n",
    "    sampled_matrix = user_movie_matrix.loc[sampled_users]\n",
    "    \n",
    "    # Step 2: Create a binary matrix where 1 indicates the movie was rated (watched)\n",
    "    watched_matrix = sampled_matrix.notna().astype(int)\n",
    "    \n",
    "    # Step 3: Calculate common watched movies for each pair of sampled users\n",
    "    common_counts = {}\n",
    "\n",
    "    for user1, user2 in tqdm(list(combinations(sampled_users, 2)), desc=\"Testing random combinations to match a good group\"):\n",
    "        # Count common watched movies between user1 and user2\n",
    "        common_count = np.dot(watched_matrix.loc[user1], watched_matrix.loc[user2])\n",
    "        common_counts[(user1, user2)] = common_count\n",
    "\n",
    "    # Step 4: Find the top `k` users with the maximum common watched movies\n",
    "    user_common_totals = {}\n",
    "    for (user1, user2), count in common_counts.items():\n",
    "        user_common_totals[user1] = user_common_totals.get(user1, 0) + count\n",
    "        user_common_totals[user2] = user_common_totals.get(user2, 0) + count\n",
    "\n",
    "    # Sort users by the total count of common watched movies and select top `k`\n",
    "    top_k_users = sorted(user_common_totals, key=user_common_totals.get, reverse=True)[:k]\n",
    "    \n",
    "    # Return the rows of the user-movie matrix corresponding to the top `k` users\n",
    "    return user_movie_matrix.loc[top_k_users].reset_index(drop=True)\n"
   ],
   "outputs": [],
   "execution_count": 29
  },
  {
   "metadata": {
    "ExecuteTime": {
     "end_time": "2024-11-09T16:52:20.897500Z",
     "start_time": "2024-11-09T16:51:03.896855Z"
    }
   },
   "cell_type": "code",
   "source": [
    "random_group_of_5_users_1 = get_k_users_with_max_common_movies_sampled(transform_csv_dataframe_to_user_movies_matrix(raw_df), 10)\n",
    "sleep(0.001) ## For tqdm package to display properly\n",
    "random_group_of_5_users_2 = get_k_users_with_max_common_movies_sampled(transform_csv_dataframe_to_user_movies_matrix(raw_df), 10)"
   ],
   "outputs": [
    {
     "name": "stderr",
     "output_type": "stream",
     "text": [
      "Testing random combinations to match a good group: 100%|██████████| 4950/4950 [00:39<00:00, 125.28it/s]\n",
      "Testing random combinations to match a good group: 100%|██████████| 4950/4950 [00:37<00:00, 132.89it/s]\n"
     ]
    }
   ],
   "execution_count": 30
  },
  {
   "metadata": {},
   "cell_type": "markdown",
   "source": [
    "### Kendall Tau Distance\n",
    "The `kendall_tau_distance` function calculates the Kendall tau distance between two ranked lists of movies. It iterates over all pairs of movies in the first list and counts the number of disagreements in the order of the movies in the second list."
   ]
  },
  {
   "metadata": {
    "ExecuteTime": {
     "end_time": "2024-11-09T16:52:20.930891Z",
     "start_time": "2024-11-09T16:52:20.926007Z"
    }
   },
   "cell_type": "code",
   "source": [
    "def kendall_tau_distance(ranking1, ranking2):\n",
    "    n = len(ranking1)\n",
    "    disagreements = 0\n",
    "    \n",
    "    ranking2_positions = {movie: pos for pos, movie in enumerate(ranking2)}\n",
    "    for i in range(n):\n",
    "        for j in range(i + 1, n):\n",
    "            movie1, movie2 = ranking1[i], ranking1[j]\n",
    "            if ranking2_positions[movie1] > ranking2_positions[movie2]:\n",
    "                disagreements += 1\n",
    "                \n",
    "    return disagreements"
   ],
   "outputs": [],
   "execution_count": 31
  },
  {
   "metadata": {},
   "cell_type": "markdown",
   "source": [
    "### Total Kendall Tau Distance\n",
    "The `total_kendall_tau_distance` function calculates the total Kendall tau distance between an ordering of movies and a list of user rankings. It sums the Kendall tau distance between the ordering and each user's ranking."
   ]
  },
  {
   "metadata": {
    "ExecuteTime": {
     "end_time": "2024-11-09T16:52:21.105267Z",
     "start_time": "2024-11-09T16:52:20.968122Z"
    }
   },
   "cell_type": "code",
   "source": [
    "def total_kendall_tau_distance(ordering, user_rankings):\n",
    "    total_distance = 0\n",
    "    for user_ranking in user_rankings:\n",
    "        distance = kendall_tau_distance(ordering, user_ranking)\n",
    "        total_distance += distance\n",
    "    return total_distance"
   ],
   "outputs": [],
   "execution_count": 32
  },
  {
   "metadata": {},
   "cell_type": "markdown",
   "source": [
    "### User Ratings to Ranking\n",
    "The `user_ratings_to_ranking` function converts a user's ratings to a ranked list of movies based on their ratings. It sorts the movies in descending order of ratings. For example, if a user rated movies A, B, and C with ratings 5, 3, and 4, respectively, the input `row` would be `[5, 3, 4]` and the resulting ranking being returned would be `[A, C, B]`."
   ]
  },
  {
   "metadata": {
    "ExecuteTime": {
     "end_time": "2024-11-09T16:52:21.252673Z",
     "start_time": "2024-11-09T16:52:21.131211Z"
    }
   },
   "cell_type": "code",
   "source": [
    "def user_ratings_to_ranking(row):\n",
    "    sorted_movies = row[1:].sort_values(ascending=False).index.tolist()\n",
    "    return sorted_movies"
   ],
   "outputs": [],
   "execution_count": 33
  },
  {
   "metadata": {},
   "cell_type": "markdown",
   "source": [
    "### Limit Group User-Movie Matrix to Some Common Movies\n",
    "The `limit_user_movie_matrix_to_some_common_movies` function limits the number of movies in a group user-movie matrix to a specified maximum number. If the number of movies in the matrix is greater than the maximum, it randomly selects a subset of movies to include in the matrix."
   ]
  },
  {
   "metadata": {
    "ExecuteTime": {
     "end_time": "2024-11-09T16:52:21.401442Z",
     "start_time": "2024-11-09T16:52:21.277047Z"
    }
   },
   "cell_type": "code",
   "source": [
    "def limit_user_movie_matrix_to_some_common_movies(\n",
    "    group_user_movie_matrix: pd.DataFrame,\n",
    "    maximum_common_movies: int = 10\n",
    ") -> pd.DataFrame:\n",
    "    # Exclude the 'userId' column and get the list of movies that are rated by all users\n",
    "    movie_columns = group_user_movie_matrix.drop(columns=['userId']).dropna(axis=1)\n",
    "\n",
    "    # If the number of movie columns is greater than maximum_common_movies, randomly select maximum_common_movies columns\n",
    "    if movie_columns.shape[1] > maximum_common_movies:\n",
    "        selected_columns = np.random.choice(movie_columns.columns, maximum_common_movies, replace=False)\n",
    "        movie_columns = movie_columns[selected_columns]\n",
    "\n",
    "    # Add the 'userId' column back to the DataFrame\n",
    "    result = pd.concat([group_user_movie_matrix[['userId']], movie_columns], axis=1)\n",
    "\n",
    "    return result\n"
   ],
   "outputs": [],
   "execution_count": 34
  },
  {
   "metadata": {
    "ExecuteTime": {
     "end_time": "2024-11-09T16:52:21.566298Z",
     "start_time": "2024-11-09T16:52:21.426916Z"
    }
   },
   "cell_type": "code",
   "source": [
    "random_group_of_5_users_1_limited_to_10_movies = limit_user_movie_matrix_to_some_common_movies(random_group_of_5_users_1, 5)\n",
    "random_group_of_5_users_2_limited_to_10_movies = limit_user_movie_matrix_to_some_common_movies(random_group_of_5_users_2, 5)"
   ],
   "outputs": [],
   "execution_count": 35
  },
  {
   "metadata": {},
   "cell_type": "markdown",
   "source": [
    "### Print Users Ranked List of Movies\n",
    "The `print_users_ranked_list_of_movies` function prints the ranked list of movies for each user in a group. The `print_group_recommendation` function prints the group recommendation, the aggregate function used, and the total Kendall tau distance between the group recommendation and each user's ranking."
   ]
  },
  {
   "metadata": {
    "ExecuteTime": {
     "end_time": "2024-11-09T16:52:21.707730Z",
     "start_time": "2024-11-09T16:52:21.596341Z"
    }
   },
   "cell_type": "code",
   "source": [
    "def print_users_ranked_list_of_movies(group_id: int, user_rankings: List[Tuple[int, List[int]]]):\n",
    "    print(f\"+---- Group {group_id} ----+\")\n",
    "    for user_id, ranking in user_rankings:\n",
    "        print(f\"User {user_id}:\", end=\" \")\n",
    "        print(ranking)\n",
    "\n",
    "def print_group_recommendation(\n",
    "    group_recommendation: List[int],\n",
    "    aggregate_function_name: str,\n",
    "    total_distance: int,\n",
    "):\n",
    "    print(f\"*- {aggregate_function_name} -*\")\n",
    "    print(\"Group Recommendation:\", group_recommendation)\n",
    "    print(\"Total Kendall tau distance:\", total_distance)\n",
    "    print()"
   ],
   "outputs": [],
   "execution_count": 36
  },
  {
   "metadata": {},
   "cell_type": "markdown",
   "source": "## Part E Solution"
  },
  {
   "metadata": {
    "ExecuteTime": {
     "end_time": "2024-11-09T16:52:22.161370Z",
     "start_time": "2024-11-09T16:52:21.737050Z"
    }
   },
   "cell_type": "code",
   "source": [
    "def calculate_aggregation_based_on_average(group_user_movie_matrix: pd.Series):\n",
    "    return group_user_movie_matrix.mean()"
   ],
   "outputs": [],
   "execution_count": 37
  },
  {
   "metadata": {
    "ExecuteTime": {
     "end_time": "2024-11-09T16:52:22.307285Z",
     "start_time": "2024-11-09T16:52:22.194255Z"
    }
   },
   "cell_type": "code",
   "source": [
    "def calculate_aggregation_based_on_least_misery(group_user_movie_matrix: pd.Series):\n",
    "    return group_user_movie_matrix.min()"
   ],
   "outputs": [],
   "execution_count": 38
  },
  {
   "metadata": {},
   "cell_type": "markdown",
   "source": [
    "### Add Group Recommendation Row\n",
    "The `add_group_recommendation_row` function adds a new row to the `group_user_movie_matrix` DataFrame. The value of the first column (\"userId\") is set to -1. The value of each of the other columns is calculated based on applying the `aggregation_function` on that column values on other rows."
   ]
  },
  {
   "metadata": {
    "ExecuteTime": {
     "end_time": "2024-11-09T16:52:22.455859Z",
     "start_time": "2024-11-09T16:52:22.339069Z"
    }
   },
   "cell_type": "code",
   "source": [
    "def add_group_recommendation_row(\n",
    "    group_user_movie_matrix: pd.DataFrame,\n",
    "    aggregation_function: typing.Callable[[pd.Series], float],\n",
    ") -> pd.DataFrame:\n",
    "    \"\"\"\n",
    "    this function adds a new row to the group_user_movie_matrix DataFrame\n",
    "    the value of first column (\"userId\") is set to -1.\n",
    "    the value of each of the other columns is calculated based on applying `aggregation_function` on that column values on other rows.\n",
    "     \n",
    "    :param group_user_movie_matrix: the result from limit_user_movie_matrix_to_some_common_movies\n",
    "    :param aggregation_function: one of many aggregation functions e.g. calculate_aggregation_based_on_average\n",
    "    :return: \n",
    "    \"\"\"\n",
    "    result = group_user_movie_matrix.copy()\n",
    "    result.loc[-1] = result.drop(columns=['userId']).apply(aggregation_function, axis=0)\n",
    "    result.loc[-1, 'userId'] = -1\n",
    "    return result\n"
   ],
   "outputs": [],
   "execution_count": 39
  },
  {
   "metadata": {
    "ExecuteTime": {
     "end_time": "2024-11-09T16:52:22.603031Z",
     "start_time": "2024-11-09T16:52:22.488839Z"
    }
   },
   "cell_type": "code",
   "source": [
    "def calculate_group_recommendation(\n",
    "    group_user_movie_matrix: pd.DataFrame,\n",
    "    aggregation_function: typing.Callable[[pd.Series], float],\n",
    ") -> pd.DataFrame:\n",
    "    group_user_movie_matrix = add_group_recommendation_row(group_user_movie_matrix, aggregation_function)\n",
    "    return group_user_movie_matrix"
   ],
   "outputs": [],
   "execution_count": 40
  },
  {
   "metadata": {
    "ExecuteTime": {
     "end_time": "2024-11-09T16:52:22.762261Z",
     "start_time": "2024-11-09T16:52:22.632342Z"
    }
   },
   "cell_type": "code",
   "source": [
    "def calculate_group_recommendation_for_group(\n",
    "    user_ids: List[int],\n",
    "    aggregation_function: typing.Callable[[pd.Series], float],\n",
    "    maximum_common_movies: Optional[int] = 10,\n",
    "):\n",
    "    user_movie_matrix = transform_csv_dataframe_to_user_movies_matrix(raw_df)\n",
    "    group_user_movie_matrix = user_movie_matrix[user_movie_matrix['userId'].isin(user_ids)]\n",
    "    if maximum_common_movies:\n",
    "        group_user_movie_matrix= limit_user_movie_matrix_to_some_common_movies(group_user_movie_matrix, maximum_common_movies)\n",
    "    return calculate_group_recommendation(group_user_movie_matrix, aggregation_function)\n"
   ],
   "outputs": [],
   "execution_count": 41
  },
  {
   "metadata": {},
   "cell_type": "markdown",
   "source": "## Examples"
  },
  {
   "metadata": {
    "ExecuteTime": {
     "end_time": "2024-11-09T16:52:22.935944Z",
     "start_time": "2024-11-09T16:52:22.798076Z"
    }
   },
   "cell_type": "code",
   "source": [
    "def part_e_solution():\n",
    "    user_rankings_1 = [(row['userId'], user_ratings_to_ranking(row)) for _, row in random_group_of_5_users_1_limited_to_10_movies.iterrows()]\n",
    "    print_users_ranked_list_of_movies(1, user_rankings_1)\n",
    "\n",
    "    result1_1 = calculate_group_recommendation(random_group_of_5_users_1_limited_to_10_movies, calculate_aggregation_based_on_average)\n",
    "    group_recommendation1_1 = user_ratings_to_ranking(result1_1[result1_1[\"userId\"] == -1].squeeze())\n",
    "    print_group_recommendation(\n",
    "        group_recommendation1_1, \n",
    "        \"Average Aggregation\", \n",
    "        total_kendall_tau_distance(\n",
    "            group_recommendation1_1,\n",
    "            [ranking for uid, ranking in user_rankings_1]\n",
    "        )\n",
    "    )\n",
    "\n",
    "    result1_2 = calculate_group_recommendation(random_group_of_5_users_1_limited_to_10_movies, calculate_aggregation_based_on_least_misery)\n",
    "    group_recommendation1_2 = user_ratings_to_ranking(result1_2[result1_2[\"userId\"] == -1].squeeze())\n",
    "    print_group_recommendation(\n",
    "        group_recommendation1_2,\n",
    "        \"Least Misery Aggregation\", \n",
    "        total_kendall_tau_distance(\n",
    "            group_recommendation1_2,\n",
    "            [ranking for uid, ranking in user_rankings_1]\n",
    "        )\n",
    "    )\n",
    "    \n",
    "    print(\"\\n#######################################\\n\")\n",
    "    \n",
    "    \n",
    "    user_rankings_2 = [(row['userId'], user_ratings_to_ranking(row)) for _, row in random_group_of_5_users_2_limited_to_10_movies.iterrows()]\n",
    "    print_users_ranked_list_of_movies(2, user_rankings_2)\n",
    "    \n",
    "    result2_1 = calculate_group_recommendation(random_group_of_5_users_2_limited_to_10_movies, calculate_aggregation_based_on_average)\n",
    "    group_recommendation2_1 = user_ratings_to_ranking(result2_1[result2_1[\"userId\"] == -1].squeeze())\n",
    "    print_group_recommendation(\n",
    "        group_recommendation2_1,\n",
    "        \"Average Aggregation\", \n",
    "        total_kendall_tau_distance(\n",
    "            group_recommendation2_1,\n",
    "            [ranking for uid, ranking in user_rankings_2]\n",
    "        )\n",
    "    )\n",
    "    \n",
    "    \n",
    "    result2_2 = calculate_group_recommendation(random_group_of_5_users_2_limited_to_10_movies, calculate_aggregation_based_on_least_misery)\n",
    "    group_recommendation2_2 = user_ratings_to_ranking(result2_2[result2_2[\"userId\"] == -1].squeeze())\n",
    "    print_group_recommendation(\n",
    "        group_recommendation2_2,\n",
    "        \"Least Misery Aggregation\", \n",
    "        total_kendall_tau_distance(\n",
    "            group_recommendation2_2,\n",
    "            [ranking for uid, ranking in user_rankings_2]\n",
    "        )\n",
    "    )\n"
   ],
   "outputs": [],
   "execution_count": 42
  },
  {
   "metadata": {
    "ExecuteTime": {
     "end_time": "2024-11-09T16:52:23.197348Z",
     "start_time": "2024-11-09T16:52:22.976706Z"
    }
   },
   "cell_type": "code",
   "source": "part_e_solution()",
   "outputs": [
    {
     "name": "stdout",
     "output_type": "stream",
     "text": [
      "+---- Group 1 ----+\n",
      "User 599.0: [296, 1210, 858, 480, 2706]\n",
      "User 274.0: [296, 1210, 858, 2706, 480]\n",
      "User 608.0: [858, 296, 1210, 480, 2706]\n",
      "User 590.0: [858, 296, 1210, 480, 2706]\n",
      "User 307.0: [858, 296, 480, 1210, 2706]\n",
      "User 91.0: [858, 296, 480, 1210, 2706]\n",
      "User 219.0: [858, 296, 1210, 480, 2706]\n",
      "User 305.0: [858, 296, 1210, 2706, 480]\n",
      "User 18.0: [1210, 858, 296, 2706, 480]\n",
      "User 160.0: [858, 296, 1210, 2706, 480]\n",
      "*- Average Aggregation -*\n",
      "Group Recommendation: [296, 858, 1210, 480, 2706]\n",
      "Total Kendall tau distance: 18\n",
      "\n",
      "*- Least Misery Aggregation -*\n",
      "Group Recommendation: [296, 858, 1210, 2706, 480]\n",
      "Total Kendall tau distance: 20\n",
      "\n",
      "\n",
      "#######################################\n",
      "\n",
      "+---- Group 2 ----+\n",
      "User 599.0: [2918, 1240, 1270, 1391, 1219]\n",
      "User 274.0: [2918, 1391, 1219, 1240, 1270]\n",
      "User 608.0: [2918, 1391, 1240, 1219, 1270]\n",
      "User 590.0: [1219, 1240, 1270, 2918, 1391]\n",
      "User 307.0: [1270, 1219, 2918, 1240, 1391]\n",
      "User 91.0: [1219, 1240, 1391, 1270, 2918]\n",
      "User 219.0: [1240, 1219, 1270, 2918, 1391]\n",
      "User 305.0: [2918, 1219, 1270, 1240, 1391]\n",
      "User 18.0: [1219, 1240, 1270, 2918, 1391]\n",
      "User 160.0: [1270, 1391, 1240, 1219, 2918]\n",
      "*- Average Aggregation -*\n",
      "Group Recommendation: [1219, 1270, 1240, 2918, 1391]\n",
      "Total Kendall tau distance: 39\n",
      "\n",
      "*- Least Misery Aggregation -*\n",
      "Group Recommendation: [1219, 1240, 1391, 1270, 2918]\n",
      "Total Kendall tau distance: 45\n",
      "\n"
     ]
    }
   ],
   "execution_count": 43
  },
  {
   "metadata": {},
   "cell_type": "markdown",
   "source": "# F. Group Aggregation with a New Aggregation Function\n"
  },
  {
   "metadata": {},
   "cell_type": "markdown",
   "source": [
    "## Proposed Method\n",
    "This method proposes a group recommendation by finding an ordering of movies that minimizes the Kendall tau distance to each individual user’s ranked list of movies. The algorithm starts with a random ordering of movies and improves it iteratively using a hill climbing heuristic. This approach is effective for reaching a consensus within a group with diverse movie preferences.\n",
    "\n",
    "Key Concepts\n",
    "1. Kendall Tau Distance: Measures the disagreement between two ranked lists by counting the number of pairwise inversions (disagreements) between the lists. In this context, it quantifies how different the group’s proposed ordering is from each user’s ranked list.\n",
    "   - Given two ranked lists, `ranking1` and `ranking2`, the Kendall tau distance counts all pairs of movies $(x, y)$ such that the order of $x$ and $y$ in ranking1 is opposite in ranking2.\n",
    "Formula:\n",
    "$$\\text{Kendall} \\ \\tau \\ \\text{Distance} = \\sum \\text{pairwise disagreements between two lists}$$\n",
    "2. Hill Climbing Heuristic: A simple optimization technique used to iteratively improve an ordering by exploring adjacent orderings (those created by swapping two movies). The algorithm moves to a neighboring ordering if it decreases the total Kendall tau distance across all users.\n",
    "\n",
    "3. Adjacent Orderings: Two orderings are adjacent if one can be obtained by swapping the position of two movies in the other. For example, the following two orderings are considered adjacent, since the second one can be obtained by swapping movie1 and movie3 in the first one:\n",
    "   - Ordering A: `[movie1, movie2, movie3, movie4]`\n",
    "   - Ordering B (adjacent): `[movie3, movie2, movie1, movie4]`."
   ]
  },
  {
   "metadata": {},
   "cell_type": "markdown",
   "source": "## Implementation"
  },
  {
   "metadata": {},
   "cell_type": "markdown",
   "source": [
    "### Generate Initial Ordering\n",
    "The `generate_initial_ordering` function generates a random initial ordering of movies to be used in the **Hill Climbing** loop. It shuffles the list of movies to create a random ordering."
   ]
  },
  {
   "metadata": {
    "ExecuteTime": {
     "end_time": "2024-11-09T16:52:23.331162Z",
     "start_time": "2024-11-09T16:52:23.230817Z"
    }
   },
   "cell_type": "code",
   "source": [
    "def generate_initial_ordering(movies):\n",
    "    return np.random.permutation(movies).tolist()"
   ],
   "outputs": [],
   "execution_count": 44
  },
  {
   "metadata": {},
   "cell_type": "markdown",
   "source": [
    "### Best Adjacent Ordering\n",
    "The `select_best_adjacent_ordering` function finds the best adjacent ordering that minimizes the total Kendall tau distance to the user rankings. It iterates over all adjacent orderings and selects the one with the lowest total distance. An adjacent ordering is defined as an ordering that can be obtained by swapping the position of two movies in the current ordering. `generate_adjacent_orderings` generates all possible adjacent orderings to be further used in `select_best_adjacent_ordering`. "
   ]
  },
  {
   "metadata": {
    "ExecuteTime": {
     "end_time": "2024-11-09T16:52:23.528326Z",
     "start_time": "2024-11-09T16:52:23.358487Z"
    }
   },
   "cell_type": "code",
   "source": [
    "def generate_adjacent_orderings(ordering):\n",
    "    adjacent_orderings = []\n",
    "    for i, j in combinations(range(len(ordering)), 2):\n",
    "        new_ordering = ordering[:]\n",
    "        new_ordering[i], new_ordering[j] = new_ordering[j], new_ordering[i]\n",
    "        adjacent_orderings.append(new_ordering)\n",
    "    return adjacent_orderings\n",
    "\n",
    "def select_best_adjacent_ordering(current_ordering, user_rankings):\n",
    "    best_ordering = current_ordering\n",
    "    best_distance = total_kendall_tau_distance(current_ordering, user_rankings)\n",
    "    \n",
    "    for adjacent_ordering in generate_adjacent_orderings(current_ordering):\n",
    "        distance = total_kendall_tau_distance(adjacent_ordering, user_rankings)\n",
    "        if distance < best_distance:\n",
    "            best_ordering = adjacent_ordering\n",
    "            best_distance = distance\n",
    "            \n",
    "    return best_ordering, best_distance"
   ],
   "outputs": [],
   "execution_count": 45
  },
  {
   "metadata": {},
   "cell_type": "markdown",
   "source": [
    "### Hill Climbing Optimization\n",
    "The `hill_climbing_optimization` function optimizes the ordering of movies by minimizing the total Kendall tau distance to the user rankings. It starts with a random initial ordering that is returned by `generate_initial_ordering`. It further iteratively improves the ordering by selecting the best adjacent ordering that reduces the total distance by utilizing the `select_best_adjacent_ordering` function. The optimization stops when no better ordering can be found which would actually be a local minimum for the optimization problem."
   ]
  },
  {
   "metadata": {
    "ExecuteTime": {
     "end_time": "2024-11-09T16:52:23.676334Z",
     "start_time": "2024-11-09T16:52:23.563139Z"
    }
   },
   "cell_type": "code",
   "source": [
    "def hill_climbing_optimization(group_user_movie_matrix):\n",
    "    movies = group_user_movie_matrix.columns[1:]\n",
    "    \n",
    "    user_rankings = [user_ratings_to_ranking(row) for _, row in group_user_movie_matrix.iterrows()]\n",
    "    \n",
    "    current_ordering = generate_initial_ordering(movies)\n",
    "    current_distance = total_kendall_tau_distance(current_ordering, user_rankings)\n",
    "    \n",
    "    while True:\n",
    "        best_ordering, best_distance = select_best_adjacent_ordering(current_ordering, user_rankings)\n",
    "        \n",
    "        if best_distance >= current_distance:\n",
    "            break\n",
    "        \n",
    "        current_ordering, current_distance = best_ordering, best_distance\n",
    "    \n",
    "    return current_ordering, current_distance"
   ],
   "outputs": [],
   "execution_count": 46
  },
  {
   "metadata": {},
   "cell_type": "markdown",
   "source": "## Examples"
  },
  {
   "metadata": {
    "ExecuteTime": {
     "end_time": "2024-11-09T16:52:23.848510Z",
     "start_time": "2024-11-09T16:52:23.704221Z"
    }
   },
   "cell_type": "code",
   "source": [
    "def part_f_solution():\n",
    "    user_rankings_1 = [(row['userId'], user_ratings_to_ranking(row)) for _, row in random_group_of_5_users_1_limited_to_10_movies.iterrows()]\n",
    "    print_users_ranked_list_of_movies(1, user_rankings_1)\n",
    "\n",
    "    group_recommendation1_3, distance1_3 = hill_climbing_optimization(random_group_of_5_users_1_limited_to_10_movies)\n",
    "    print_group_recommendation(\n",
    "        group_recommendation1_3, \n",
    "        \"Proposed Aggregation Method\", \n",
    "        distance1_3\n",
    "    )\n",
    "    \n",
    "    print(\"\\n#######################################\\n\")\n",
    "    \n",
    "    user_rankings_2 = [(row['userId'], user_ratings_to_ranking(row)) for _, row in random_group_of_5_users_2_limited_to_10_movies.iterrows()]\n",
    "    print_users_ranked_list_of_movies(2, user_rankings_2)\n",
    "    \n",
    "    group_recommendation2_3, distance2_3 = hill_climbing_optimization(random_group_of_5_users_2_limited_to_10_movies)\n",
    "    print_group_recommendation(\n",
    "        group_recommendation2_3,\n",
    "        \"Proposed Aggregation Method\", \n",
    "        distance2_3,\n",
    "    )\n",
    "    "
   ],
   "outputs": [],
   "execution_count": 47
  },
  {
   "metadata": {
    "ExecuteTime": {
     "end_time": "2024-11-09T16:41:16.955360Z",
     "start_time": "2024-11-09T16:41:16.939990Z"
    }
   },
   "cell_type": "code",
   "source": "part_f_solution()",
   "outputs": [
    {
     "name": "stdout",
     "output_type": "stream",
     "text": [
      "+-- Group 1 --+\n",
      "User 599.0: [589, 480, 4993, 858, 1270]\n",
      "User 274.0: [589, 480, 1270, 858, 4993]\n",
      "User 608.0: [858, 4993, 480, 589, 1270]\n",
      "User 590.0: [858, 4993, 1270, 589, 480]\n",
      "User 307.0: [858, 1270, 480, 4993, 589]\n",
      "User 91.0: [858, 480, 4993, 589, 1270]\n",
      "User 219.0: [858, 589, 480, 4993, 1270]\n",
      "User 305.0: [1270, 589, 4993, 858, 480]\n",
      "User 18.0: [4993, 589, 1270, 858, 480]\n",
      "User 160.0: [1270, 858, 589, 480, 4993]\n",
      "+-- Proposed Aggregation Method --+\n",
      "Group Recommendation: [858, 589, 480, 4993, 1270]\n",
      "Total Kendall tau distance: 38\n",
      "\n",
      "+-- Group 2 --+\n",
      "User 599.0: [1210, 47, 858, 50, 3578]\n",
      "User 274.0: [50, 1210, 47, 3578, 858]\n",
      "User 608.0: [858, 50, 47, 3578, 1210]\n",
      "User 590.0: [858, 50, 1210, 3578, 47]\n",
      "User 307.0: [50, 858, 47, 3578, 1210]\n",
      "User 91.0: [858, 50, 47, 1210, 3578]\n",
      "User 219.0: [50, 3578, 858, 1210, 47]\n",
      "User 305.0: [50, 1210, 3578, 858, 47]\n",
      "User 18.0: [50, 1210, 3578, 47, 858]\n",
      "User 160.0: [1210, 858, 3578, 47, 50]\n",
      "+-- Proposed Aggregation Method --+\n",
      "Group Recommendation: [858, 50, 1210, 3578, 47]\n",
      "Total Kendall tau distance: 33\n",
      "\n"
     ]
    }
   ],
   "execution_count": 47
  }
 ]
}
